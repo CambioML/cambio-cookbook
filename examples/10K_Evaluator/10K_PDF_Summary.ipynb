{
 "cells": [
  {
   "cell_type": "markdown",
   "id": "ba8692ce-094f-4bb5-afa7-3dba85944b7d",
   "metadata": {},
   "source": [
    "# Build Your Own 10K Agent: Transform a Unstructured Financial Report to an Finetuned LLM"
   ]
  },
  {
   "cell_type": "markdown",
   "id": "da5802d6-a4f0-43a8-958d-a18208f03dc3",
   "metadata": {},
   "source": [
    "# Context Summarization from Annual Reports\n",
    "\n",
    "Are you looking to transform dense annual reports (10K) into concise, informative summaries? This guide introduces the use of Uniflow to both extract and summarize key information from unstructured annual reports, enabling efficient knowledge discovery and summarization with a Large Language Model (LLM)."
   ]
  },
  {
   "cell_type": "markdown",
   "id": "8b476002-019f-4b8f-9cf6-ce1c8901447b",
   "metadata": {},
   "source": [
    "---\n",
    "\n",
    "## 🚀 Process Overview\n",
    "\n",
    "We simplify the process into a single, streamlined step:\n",
    "\n",
    "- **Summary Extraction**:\n",
    "  - Utilize Uniflow for parsing and summarizing PDF-formatted annual reports.\n",
    "  - **Example Reports**: Nike, Amazon, and Alphabet serve as our case studies for demonstration."
   ]
  },
  {
   "cell_type": "markdown",
   "id": "f59c9288-c716-49ab-82e9-a62d3f63f117",
   "metadata": {},
   "source": [
    "---\n",
    "\n",
    "## 📋 Prerequisites\n",
    "\n",
    "> **Important**: A GPU is necessary for running Reinforcement Learning from Human Feedback (RLHF), a crucial component of the fine-tuning process.\n",
    "\n",
    "### Setup Instructions\n",
    "\n",
    "Ensure your environment is ready by following these steps:\n",
    "\n",
    "#### Conda Environment\n",
    "\n",
    "- Create a conda environment specific to this project. Follow the provided setup instructions for guidance.\n",
    "\n",
    "#### Installation of Dependencies\n",
    "\n",
    "Install necessary libraries within your environment:\n",
    "\n",
    "```bash\n",
    "pip3 install uniflow\n",
    "pip3 install \"pykoi[huggingface, rag, rlhf]\"\n",
    "```\n",
    "\n",
    "For GPU support, ensure the correct version of torch is installed:\n",
    "\n",
    "```bash\n",
    "pip3 uninstall torch\n",
    "pip3 install --pre torch --index-url https://download.pytorch.org/whl/nightly/cu121\n",
    "```\n",
    "\n",
    "#### OpenAI API Key Configuration\n",
    "\n",
    "Obtain an OpenAI API key and set it as the `OPENAI_API_KEY` environment variable in a `.env` file at the root directory of this project. Refer to the provided [instructions](https://github.com/CambioML/cambio-cookbook/tree/main#api-keys) for more detail."
   ]
  },
  {
   "cell_type": "markdown",
   "id": "319c8734-a752-44f6-9e1d-f951af75a898",
   "metadata": {},
   "source": [
    "---\n",
    "\n",
    "## 🌟 Getting Started\n",
    "\n",
    "With your environment prepared and dependencies in place, you're ready to dive into the notebook. Follow the guide to start extracting and summarizing information from annual reports. This tool is designed to streamline the analysis of complex financial documents, making your review process more efficient and insightful."
   ]
  },
  {
   "cell_type": "markdown",
   "id": "37da3d68-4f3f-4232-9557-a6da710ce52c",
   "metadata": {
    "jp-MarkdownHeadingCollapsed": true
   },
   "source": [
    "### Update System Path"
   ]
  },
  {
   "cell_type": "code",
   "execution_count": 1,
   "id": "2c11a636-ebd0-4a3a-8dde-c37a5b1a1751",
   "metadata": {},
   "outputs": [],
   "source": [
    "%reload_ext autoreload\n",
    "%autoreload 2\n",
    "\n",
    "import sys\n",
    "\n",
    "sys.path.append(\".\")\n",
    "sys.path.append(\"..\")\n",
    "sys.path.append(\"../..\")"
   ]
  },
  {
   "cell_type": "markdown",
   "id": "0a6f592e-a647-4a2f-b07f-34f7fe3aa28e",
   "metadata": {
    "jp-MarkdownHeadingCollapsed": true
   },
   "source": [
    "### Install helper packages"
   ]
  },
  {
   "cell_type": "markdown",
   "id": "4b06e8b8-6796-40c5-affc-50c62d65c77f",
   "metadata": {},
   "source": [
    "If you already have these installed, feel free to skip this step."
   ]
  },
  {
   "cell_type": "code",
   "execution_count": 2,
   "id": "a15c8fa4-2a9d-4c9e-9517-1bf43c8af8bb",
   "metadata": {},
   "outputs": [],
   "source": [
    "!{sys.executable} -m pip install -q pandas nougat-ocr"
   ]
  },
  {
   "cell_type": "markdown",
   "id": "e2cf11ef-6ad1-422c-a39c-e0ab5efa401f",
   "metadata": {
    "jp-MarkdownHeadingCollapsed": true
   },
   "source": [
    "### Import dependency"
   ]
  },
  {
   "cell_type": "code",
   "execution_count": 3,
   "id": "56f38f41-04df-49a0-8811-448d5d97b16d",
   "metadata": {},
   "outputs": [
    {
     "name": "stderr",
     "output_type": "stream",
     "text": [
      "/opt/conda/envs/uniflow/lib/python3.10/site-packages/tqdm/auto.py:21: TqdmWarning: IProgress not found. Please update jupyter and ipywidgets. See https://ipywidgets.readthedocs.io/en/stable/user_install.html\n",
      "  from .autonotebook import tqdm as notebook_tqdm\n"
     ]
    },
    {
     "data": {
      "text/plain": [
       "True"
      ]
     },
     "execution_count": 3,
     "metadata": {},
     "output_type": "execute_result"
    }
   ],
   "source": [
    "from dotenv import load_dotenv\n",
    "import os\n",
    "import pandas as pd\n",
    "\n",
    "from uniflow.pipeline import MultiFlowsPipeline\n",
    "from uniflow.flow.client import TransformClient, ExtractClient\n",
    "from uniflow.flow.config import PipelineConfig\n",
    "from uniflow.flow.config import TransformOpenAIConfig, ExtractPDFConfig\n",
    "from uniflow.flow.config import OpenAIModelConfig, NougatModelConfig\n",
    "from uniflow.flow.config import TransformHuggingFaceConfig, HuggingfaceModelConfig, TransformQAHuggingFaceJsonFormatConfig\n",
    "from uniflow.op.prompt import Context, PromptTemplate\n",
    "\n",
    "load_dotenv()"
   ]
  },
  {
   "cell_type": "markdown",
   "id": "d69346f9-c9eb-4af4-8bd0-ce39f1158d27",
   "metadata": {},
   "source": [
    "### 1. Prepare the input data"
   ]
  },
  {
   "cell_type": "markdown",
   "id": "814e5cc2-53d1-4e04-a8af-8cbdf2237e93",
   "metadata": {},
   "source": [
    "Uncomment the 10k that you want to use."
   ]
  },
  {
   "cell_type": "code",
   "execution_count": 4,
   "id": "72ed7987-f871-485c-b384-eebd7ce40d41",
   "metadata": {},
   "outputs": [],
   "source": [
    "pdf_file = \"amazon-10k-2023.pdf\"\n",
    "# pdf_file = \"amazon-10k-2023.pdf\"\n",
    "# pdf_file = \"alphabet-10k-2023.pdf\""
   ]
  },
  {
   "cell_type": "markdown",
   "id": "aeccb17d-aba8-42dd-9e83-e4503514dfe5",
   "metadata": {},
   "source": [
    "Set current directory and input data directory."
   ]
  },
  {
   "cell_type": "code",
   "execution_count": 5,
   "id": "2e6f2e41-7dfa-4988-81f1-5dae5ed15cfb",
   "metadata": {},
   "outputs": [],
   "source": [
    "dir_cur = os.getcwd()\n",
    "input_file = os.path.join(f\"{dir_cur}/data/raw_input/\", pdf_file)"
   ]
  },
  {
   "cell_type": "markdown",
   "id": "d1497228-4bd2-46f4-a581-a89f5b7b4ffc",
   "metadata": {},
   "source": [
    "### 2. Load the pdf using Nougat"
   ]
  },
  {
   "cell_type": "markdown",
   "id": "960e1645-476b-458c-aa37-1e79b52b8cae",
   "metadata": {},
   "source": [
    "For this example, we'll run the ExtractPDF flow to extract the text from the 10K pdf. This uses the Nougat PDF parser."
   ]
  },
  {
   "cell_type": "code",
   "execution_count": 6,
   "id": "6b55fd31-38ab-4ded-8f1c-04fb56932f8a",
   "metadata": {},
   "outputs": [
    {
     "name": "stderr",
     "output_type": "stream",
     "text": [
      "/opt/conda/envs/uniflow/lib/python3.10/site-packages/torch/functional.py:504: UserWarning: torch.meshgrid: in an upcoming release, it will be required to pass the indexing argument. (Triggered internally at ../aten/src/ATen/native/TensorShape.cpp:3526.)\n",
      "  return _VF.meshgrid(tensors, **kwargs)  # type: ignore[attr-defined]\n",
      "  0%|                                                                                                                 | 0/1 [00:00<?, ?it/s]"
     ]
    },
    {
     "name": "stdout",
     "output_type": "stream",
     "text": [
      "INFO: likely hallucinated title at the end of the page: ## Appendix B\n"
     ]
    },
    {
     "name": "stderr",
     "output_type": "stream",
     "text": [
      "100%|████████████████████████████████████████████████████████████████████████████████████████████████████████| 1/1 [07:03<00:00, 423.12s/it]\n"
     ]
    }
   ],
   "source": [
    "pdf_directory = [\n",
    "    {\"pdf\": input_file},\n",
    "]\n",
    "\n",
    "extract_config = ExtractPDFConfig(\n",
    "    model_config=NougatModelConfig(\n",
    "        model_name = \"0.1.0-small\",\n",
    "        batch_size = 128 # When batch_size>1, nougat will run on CUDA, otherwise it will run on CPU\n",
    "    )\n",
    ")\n",
    "\n",
    "nougat_client = ExtractClient(extract_config)\n",
    "\n",
    "pdf_output = nougat_client.run(pdf_directory)"
   ]
  },
  {
   "cell_type": "markdown",
   "id": "3c5e6068-fdd9-47f2-a492-898bb38cf27b",
   "metadata": {},
   "source": [
    "### 3. Pre-process data extracted from pdf"
   ]
  },
  {
   "cell_type": "markdown",
   "id": "52d7752b-b25f-48dc-8dc6-4ecb78c0a62d",
   "metadata": {},
   "source": [
    "Convert the list of strings into a single string to enable efficient processing by the helper function below."
   ]
  },
  {
   "cell_type": "code",
   "execution_count": 7,
   "id": "40313e76-89b0-4808-aaab-c51f9a05cd9e",
   "metadata": {},
   "outputs": [],
   "source": [
    "combined_pdf_output = '\\n'.join(pdf_output[0]['output'][0]['text'])"
   ]
  },
  {
   "cell_type": "markdown",
   "id": "0af6591e-29db-4c44-a591-1d4787b700d4",
   "metadata": {},
   "source": [
    "Import helper function `process_content` to pre-process the content extracted from target PDF. If you are interested in the details of the function, you can find it in the dictory `./helper_func/nougat_helper_function`."
   ]
  },
  {
   "cell_type": "code",
   "execution_count": 8,
   "id": "8cf9bf45-8083-43ae-ae57-2270bb6ab3e6",
   "metadata": {},
   "outputs": [],
   "source": [
    "from helper_func.nougat_helper_function import process_content"
   ]
  },
  {
   "cell_type": "markdown",
   "id": "053c1ff2-a85b-4df1-8b69-1bdc3ba241f7",
   "metadata": {},
   "source": [
    "Create OpenAI client instance from uniflow, for further usage of `process_content` function."
   ]
  },
  {
   "cell_type": "code",
   "execution_count": 9,
   "id": "d90d7e17-1e8e-4c96-bbbf-7932c8dca98b",
   "metadata": {},
   "outputs": [],
   "source": [
    "guided_prompt_openAI = PromptTemplate(\n",
    "instruction=\"\"\"Revise the original text, focusing on fully retaining the core textual content while removing elements resembling table \n",
    "syntax, including lines with a single number and a sign. Preserve headers like '##' and '###' in markdown format. Follow the format of the \n",
    "examples below to include original_context and cleaned_context in the response, under the 'responses' key in the JSON object.\"\"\",   \n",
    "few_shot_prompt=[\n",
    "    Context(\n",
    "        original_context=\"Claude E. Shannon published A Mathematical Theory of\\nCommunication (Shannon, 1948) establishing the theory of\\ninformation. \\[\\text{NON-U.S. RETAIL STORES}\\] Shannon introduced the concept of\\ninformation entropy for the first time. \\[\\frac{\\text{$}}{\\text{$}}\\]. \\n21%\\n507\\n25%\\n25%\\n\",\n",
    "        cleaned_context=\"Claude E. Shannon published A Mathematical Theory of\\nCommunication (Shannon, 1948) establishing the theory of\\ninformation. Shannon introduced the concept of\\ninformation entropy for the first time.\",\n",
    "    ),\n",
    "])\n",
    "\n",
    "config_openAI = TransformOpenAIConfig(\n",
    "    prompt_template=guided_prompt_openAI,\n",
    "    model_config=OpenAIModelConfig(response_format={\"type\": \"json_object\"}),\n",
    ")\n",
    "\n",
    "client_openAI = TransformClient(config_openAI)"
   ]
  },
  {
   "cell_type": "markdown",
   "id": "fac03df5-7bbb-4037-8d00-9e7556965b04",
   "metadata": {},
   "source": [
    "Then, refine extracted PDF content using the process_content function, then encapsulate each data chunk in a `Content` object for LLM summary generation compatibility."
   ]
  },
  {
   "cell_type": "code",
   "execution_count": 10,
   "id": "1421aba7-441b-437b-8763-2e16dc840600",
   "metadata": {},
   "outputs": [
    {
     "name": "stderr",
     "output_type": "stream",
     "text": [
      "100%|█████████████████████████████████████████████████████████████████████████████████████████████████████████| 1/1 [00:02<00:00,  2.05s/it]\n",
      "100%|█████████████████████████████████████████████████████████████████████████████████████████████████████████| 1/1 [00:03<00:00,  3.76s/it]\n",
      "100%|█████████████████████████████████████████████████████████████████████████████████████████████████████████| 1/1 [00:02<00:00,  2.34s/it]\n",
      "100%|█████████████████████████████████████████████████████████████████████████████████████████████████████████| 1/1 [00:02<00:00,  2.13s/it]\n",
      "100%|█████████████████████████████████████████████████████████████████████████████████████████████████████████| 1/1 [00:03<00:00,  3.58s/it]\n",
      "100%|█████████████████████████████████████████████████████████████████████████████████████████████████████████| 1/1 [00:04<00:00,  4.08s/it]\n",
      "100%|█████████████████████████████████████████████████████████████████████████████████████████████████████████| 1/1 [00:03<00:00,  3.72s/it]\n",
      "100%|█████████████████████████████████████████████████████████████████████████████████████████████████████████| 1/1 [00:02<00:00,  2.78s/it]\n",
      "100%|█████████████████████████████████████████████████████████████████████████████████████████████████████████| 1/1 [00:02<00:00,  2.38s/it]\n",
      "100%|█████████████████████████████████████████████████████████████████████████████████████████████████████████| 1/1 [00:03<00:00,  3.79s/it]\n",
      "100%|█████████████████████████████████████████████████████████████████████████████████████████████████████████| 1/1 [00:02<00:00,  2.33s/it]\n",
      "100%|█████████████████████████████████████████████████████████████████████████████████████████████████████████| 1/1 [00:03<00:00,  3.83s/it]\n",
      "100%|█████████████████████████████████████████████████████████████████████████████████████████████████████████| 1/1 [00:03<00:00,  3.49s/it]\n",
      "100%|█████████████████████████████████████████████████████████████████████████████████████████████████████████| 1/1 [00:04<00:00,  4.57s/it]\n",
      "100%|█████████████████████████████████████████████████████████████████████████████████████████████████████████| 1/1 [00:04<00:00,  4.65s/it]\n",
      "100%|█████████████████████████████████████████████████████████████████████████████████████████████████████████| 1/1 [00:04<00:00,  4.64s/it]\n",
      "100%|█████████████████████████████████████████████████████████████████████████████████████████████████████████| 1/1 [00:04<00:00,  4.31s/it]\n",
      "100%|█████████████████████████████████████████████████████████████████████████████████████████████████████████| 1/1 [00:03<00:00,  3.91s/it]\n",
      "100%|█████████████████████████████████████████████████████████████████████████████████████████████████████████| 1/1 [00:04<00:00,  4.49s/it]\n",
      "100%|█████████████████████████████████████████████████████████████████████████████████████████████████████████| 1/1 [00:03<00:00,  3.80s/it]\n",
      "100%|█████████████████████████████████████████████████████████████████████████████████████████████████████████| 1/1 [00:04<00:00,  4.08s/it]\n",
      "100%|█████████████████████████████████████████████████████████████████████████████████████████████████████████| 1/1 [00:04<00:00,  4.54s/it]"
     ]
    },
    {
     "name": "stdout",
     "output_type": "stream",
     "text": [
      "Number of chunks further split: 0\n",
      "Number of significantly reduced chunks: 22\n"
     ]
    },
    {
     "name": "stderr",
     "output_type": "stream",
     "text": [
      "\n"
     ]
    }
   ],
   "source": [
    "preprocessed_combined_pdf_output = process_content(combined_pdf_output, client_openAI)\n",
    "data = [ Context(context=p[:800], summary=\"\") for p in preprocessed_combined_pdf_output[6:16] if len(p) > 200 ]"
   ]
  },
  {
   "cell_type": "markdown",
   "id": "f5b2d60f-83db-4c6c-b917-2b7720e1e998",
   "metadata": {},
   "source": [
    "### 4. Use LLM to generate data "
   ]
  },
  {
   "cell_type": "markdown",
   "id": "4f3f1838-c993-4f1a-8c90-f5fccd547079",
   "metadata": {},
   "source": [
    "Craft prompts to generate Q&A pairs from a given paragraph, each including instructions and examples featuring \"context\" and \"summary\". Then, initialize a TransformClient with TransformHuggingFaceConfig. Ensure the data is prepped for client integration."
   ]
  },
  {
   "cell_type": "code",
   "execution_count": 11,
   "id": "4bbd8476-8a71-4765-b8fe-57b4d1c58da1",
   "metadata": {},
   "outputs": [
    {
     "name": "stderr",
     "output_type": "stream",
     "text": [
      "Loading checkpoint shards: 100%|██████████████████████████████████████████████████████████████████████████████| 3/3 [00:04<00:00,  1.47s/it]\n"
     ]
    }
   ],
   "source": [
    "guided_prompt = PromptTemplate(\n",
    "    instruction=\"Generate a one sentence summary based on the last context below. Follow the format of the examples below to include original context and its summary in the response\",\n",
    "    few_shot_prompt=[\n",
    "        Context(\n",
    "            context=\"When you're operating on the maker's schedule, meetings are a disaster. A single meeting can blow a whole afternoon, by breaking it into two pieces each too small to do anything hard in. Plus you have to remember to go to the meeting. That's no problem for someone on the manager's schedule. There's always something coming on the next hour; the only question is what. But when someone on the maker's schedule has a meeting, they have to think about it.\",\n",
    "            summary=\"Meetings disrupt the productivity of those following a maker's schedule, dividing their time into impractical segments, while those on a manager's schedule are accustomed to a continuous flow of tasks.\",\n",
    "        ),\n",
    "    ],\n",
    ")\n",
    "\n",
    "huggingface_config = TransformHuggingFaceConfig(\n",
    "    prompt_template=guided_prompt,\n",
    "    model_config=HuggingfaceModelConfig(\n",
    "        batch_size=128\n",
    "))\n",
    "\n",
    "huggingface_client = TransformClient(huggingface_config)"
   ]
  },
  {
   "cell_type": "markdown",
   "id": "951c272d-3171-4d36-a1ea-c838342c0017",
   "metadata": {},
   "source": [
    "Feed the data into the client and await the generated results."
   ]
  },
  {
   "cell_type": "code",
   "execution_count": 12,
   "id": "c5b374cf-89e8-4b59-8898-bf6efe3d610e",
   "metadata": {},
   "outputs": [
    {
     "name": "stderr",
     "output_type": "stream",
     "text": [
      "  0%|                                                                                                                 | 0/1 [00:00<?, ?it/s]/opt/conda/envs/uniflow/lib/python3.10/site-packages/transformers/generation/configuration_utils.py:389: UserWarning: `do_sample` is set to `False`. However, `temperature` is set to `0.0` -- this flag is only used in sample-based generation modes. You should set `do_sample=True` or unset `temperature`.\n",
      "  warnings.warn(\n",
      "100%|█████████████████████████████████████████████████████████████████████████████████████████████████████████| 1/1 [00:26<00:00, 26.66s/it]\n"
     ]
    }
   ],
   "source": [
    "huggingface_output = huggingface_client.run(data)"
   ]
  },
  {
   "cell_type": "markdown",
   "id": "0d0418a2-c2f4-4181-aaaf-d61accd91d86",
   "metadata": {},
   "source": [
    "### 5. Process the output\n",
    "\n",
    "Let's take a look of the generation output. We need to do a little postprocessing on the raw output."
   ]
  },
  {
   "cell_type": "code",
   "execution_count": 13,
   "id": "e7ca87ea-3891-4681-817c-dad80099783c",
   "metadata": {},
   "outputs": [
    {
     "data": {
      "text/html": [
       "<div><strong>Pair #1</strong></div><div style='margin-bottom: 20px;'><strong style='color: #000000;'>Context:</strong><p style='background-color: #FFFFFF; padding: 10px;'>The following tables set forth certain information regarding our Executive Officers and Directors as of January 25, 2023:\n",
       "\\\\begin{{tabular}}{{p{{113.8pt}} p{{113.8pt}} p{{113.8pt}}}}\n",
       "**Information About Our Executive Officers** \\\\\\\\ \\\\end{{tabular}}\n",
       "\\\\begin{{tabular}}{{p{{113.8pt}} p{{113.8pt}}}}\n",
       "**Name** & **Age** & **Position** \\\\\\\\ Jeffrey P. Bezos & 59 & Executive Chair \\\\\\\\ Andrew R. Jassy & 55 & President and Chief Executive Officer \\\\\\\\ Douglas J. Herrington & 56 & CEO Worldwide Amazon Stores \\\\\\\\ Brian T. Olsavsky & 59 & Senior Vice President and Chief Financial Officer \\\\\\\\ Shelley L. Reynolds & 58 & Vice President, Worldwide Controller, and Principal Accounting Officer \\\\\\\\ Adam N. Selipsky & 56 & CEO Amazon Web Services \\\\\\\\ David A. Zapolsky & 59 & Senior Vice President, General Counsel, and Secretary \\\\\\\\ \\\\end{{tabula</p></div><div style='background-color: #f5f5f5; padding: 10px;'><strong style='color: #000000;'>Summary:</strong><p>The table provides details about our Executive Officers and their respective positions as of January 25, 2023.</p></div><hr/>"
      ],
      "text/plain": [
       "<IPython.core.display.HTML object>"
      ]
     },
     "metadata": {},
     "output_type": "display_data"
    },
    {
     "data": {
      "text/html": [
       "<div><strong>Pair #2</strong></div><div style='margin-bottom: 20px;'><strong style='color: #000000;'>Context:</strong><p style='background-color: #FFFFFF; padding: 10px;'># The Variability in Our Retail Business Places Increased Strain on Our Operations\n",
       "Demand for our products and services can fluctuate significantly for many reasons, including as a result of seasonality, promotions, product launches, or unforeseeable events, such as in response to global economic conditions such as recessionary fears or rising inflation, natural or human-caused disasters (including public health crises) or extreme weather (including as a result of climate change), or geopolitical events. For example, we expect a disproportionate amount of our retail sales to occur during our fourth quarter. Our failure to stock or restock popular products in sufficient amounts such that we fail to meet customer demand could significantly affect our revenue and our future growth. When we ov</p></div><div style='background-color: #f5f5f5; padding: 10px;'><strong style='color: #000000;'>Summary:</strong><p>The retail business experiences significant strain due to variable demand, requiring careful inventory management to prevent lost sales opportunities and maintain revenue growth amidst seasonal fluctuations, promotions, and unexpected events.</p></div><hr/>"
      ],
      "text/plain": [
       "<IPython.core.display.HTML object>"
      ]
     },
     "metadata": {},
     "output_type": "display_data"
    },
    {
     "data": {
      "text/html": [
       "<div><strong>Pair #3</strong></div><div style='margin-bottom: 20px;'><strong style='color: #000000;'>Context:</strong><p style='background-color: #FFFFFF; padding: 10px;'># We Are Impacted by Fraudulent or Unlawful Activities of Sellers\n",
       "The law relating to the liability of online service providers is currently unsettled. In addition, governmental agencies have in the past and could in the future require changes in the way this business is conducted. Under our seller programs, we maintain policies and processes designed to prevent sellers from collecting payments, fraudulently or otherwise, when buyers never receive the products they ordered or when the products received are materially different from the sellers' descriptions, and to prevent sellers in our stores or through other stores from selling unlawful, counterfeit, pirated, or stolen goods, selling goods in an unlawful or unethical manner, violating the proprietary rights of others, or otherwise viola</p></div><div style='background-color: #f5f5f5; padding: 10px;'><strong style='color: #000000;'>Summary:</strong><p>Our business is subject to legal uncertainty regarding seller misconduct, with potential regulatory interventions and consequences including payment collection issues, product discrepancies, unlawful sales, ethical violations, intellectual property infringement, and more under our seller programs.</p></div><hr/>"
      ],
      "text/plain": [
       "<IPython.core.display.HTML object>"
      ]
     },
     "metadata": {},
     "output_type": "display_data"
    },
    {
     "data": {
      "text/html": [
       "<div><strong>Pair #4</strong></div><div style='margin-bottom: 20px;'><strong style='color: #000000;'>Context:</strong><p style='background-color: #FFFFFF; padding: 10px;'>In addition to risks described elsewhere in this Item 1A relating to fulfillment network and inventory optimization by us and third parties, we are exposed to significant inventory risks that may adversely affect our operating results as a result of seasonality, new product launches, rapid changes in product cycles and pricing, defective merchandise, changes in customer demand and consumer spending patterns, changes in consumer tastes with respect to our products, spoilage, and other factors. We endeavor to accurately predict these trends and avoid overstocking or understocking products we manufacture and/or sell. Demand for products, however, can change significantly between the time inventory or components are ordered and the date of sale. In addition, when we begin selling or manufactur</p></div><div style='background-color: #f5f5f5; padding: 10px;'><strong style='color: #000000;'>Summary:</strong><p>Our business faces substantial inventory risks due to seasonal fluctuations, new product launches, rapidly changing markets, and external factors like consumer preferences and spoilage, which can impact sales and require careful management to mitigate potential losses from overstocking or understocking.</p></div><hr/>"
      ],
      "text/plain": [
       "<IPython.core.display.HTML object>"
      ]
     },
     "metadata": {},
     "output_type": "display_data"
    },
    {
     "data": {
      "text/html": [
       "<div><strong>Pair #5</strong></div><div style='margin-bottom: 20px;'><strong style='color: #000000;'>Context:</strong><p style='background-color: #FFFFFF; padding: 10px;'>We accept payments using a variety of methods, including credit card, debit card, credit accounts (including promotional financing), gift cards, direct debit from a customer's bank account, consumer invoicing, physical bank check, and payment upon delivery. For existing and future payment options we offer to our customers, we currently are subject to, and may become subject to additional, regulations and compliance requirements (including obligations to implement enhanced authentication processes that could result in significant costs and reduce the ease of use of our payments products), as well as fraud. For certain payment methods, including credit and debit cards, we pay interchange and other fees, which may increase over time and raise our operating costs and lower profitability. We re</p></div><div style='background-color: #f5f5f5; padding: 10px;'><strong style='color: #000000;'>Summary:</strong><p>Our business accepts multiple payment methods with potential regulatory complications and associated fees, impacting profitability for credit and debit card transactions.</p></div><hr/>"
      ],
      "text/plain": [
       "<IPython.core.display.HTML object>"
      ]
     },
     "metadata": {},
     "output_type": "display_data"
    },
    {
     "data": {
      "text/html": [
       "<div><strong>Pair #6</strong></div><div style='margin-bottom: 20px;'><strong style='color: #000000;'>Context:</strong><p style='background-color: #FFFFFF; padding: 10px;'># Legal and Regulatory Risks\n",
       "_Government Regulation Is Evolving and Unfavorable Changes Could Harn Our Business_\n",
       "We are subject to general business regulations and laws, as well as regulations and laws specifically governing the Internet, physical, e-commerce, and omnichannel retail, digital content, web services, electronic devices, advertising, artificial intelligence technologies and services, and other products and services that we offer or sell. These regulations and laws cover taxation, privacy, data use, data protection, data security, data localization, network security, consumer protection, pricing, content, copyrights, distribution, transportation, mobile communications, electronic device certification, electronic waste, energy consumption, environmental regulation, electronic co</p></div><div style='background-color: #f5f5f5; padding: 10px;'><strong style='color: #000000;'>Summary:</strong><p>Our business faces significant legal and regulatory risks due to evolving rules governing various aspects of our operations, including taxes, privacy, data protection, and more, which could negatively impact our activities in areas such as internet retail, digital content, and artificial intelligence.</p></div><hr/>"
      ],
      "text/plain": [
       "<IPython.core.display.HTML object>"
      ]
     },
     "metadata": {},
     "output_type": "display_data"
    },
    {
     "data": {
      "text/html": [
       "<div><strong>Pair #7</strong></div><div style='margin-bottom: 20px;'><strong style='color: #000000;'>Context:</strong><p style='background-color: #FFFFFF; padding: 10px;'>We are subject to income taxes in the U.S. (federal and state) and numerous foreign jurisdictions. Tax laws, regulations, administrative practices, principles, and interpretations in various jurisdictions may be subject to significant change, with or without notice, due to economic, political, and other conditions, and significant judgment is required in evaluating and estimating our provision and accruals for these taxes. There are many transactions that occur during the ordinary course of business for which the ultimate tax determination is uncertain. In addition, our actual and forecasted earnings are subject to change due to economic, political, and other conditions and significant judgment is required in determining our ability to use our deferred tax assets.\n",
       "Our effective tax rates c</p></div><div style='background-color: #f5f5f5; padding: 10px;'><strong style='color: #000000;'>Summary:</strong><p>The complexities and uncertainties of international tax laws require substantial judgment in estimating provisions and accruals for taxes, making accurate prediction of effective tax rates challenging.</p></div><hr/>"
      ],
      "text/plain": [
       "<IPython.core.display.HTML object>"
      ]
     },
     "metadata": {},
     "output_type": "display_data"
    },
    {
     "data": {
      "text/html": [
       "<div><strong>Pair #8</strong></div><div style='margin-bottom: 20px;'><strong style='color: #000000;'>Context:</strong><p style='background-color: #FFFFFF; padding: 10px;'>Cash flow information is as follows (in millions):\n",
       "\\\\begin{{tabular}}{{l c c c}} \\\\multicolumn{{4}}{{c}}{{**Year Ended December 31,**}} \\\\\\\\ \\\\cline{{2-4}} \\\\multicolumn{{1}}{{c}}{{}} & **2021** & **2022** \\\\\\\\ \\\\hline \\\\multicolumn{{4}}{{c}}{{Cash provided by (used in):}} \\\\\\\\ \\\\hline Operating activities & \\\\\\$ & 46,327 & \\\\\\$ & 46,752 \\\\\\\\ \\\\multicolumn{{4}}{{c}}{{}} \\\\\\\\ Investing activities & & (\\\\\\$8,154) & (\\\\\\$7,601) \\\\\\\\ \\\\hline \\\\multicolumn{{4}}{{c}}{{}} \\\\\\\\ \\\\end{{tabular}}\n",
       "\\\\begin{{tabular}}{{l c c}} \\\\multicolumn{{4}}{{c}}{{Operating activities}} \\\\\\\\ \\\\hline Investing activities & & (\\\\\\$8,154) & (\\\\\\$7,601) \\\\\\\\ \\\\hline \\\\multicolumn{{4}}{{c}}{{}} \\\\\\\\ \\\\end{{tabular}}\n",
       "\\\\begin{{tabular}}{{l c c}} \\\\multicolumn{{4}}{{c}}{{Financing activities}} \\\\\\\\ \\\\hline \\\\end{{tabular}}\n",
       "Our principal sources of liquidity are cash flows generated from operations and our cash, cash equivalents, and marketable</p></div><div style='background-color: #f5f5f5; padding: 10px;'><strong style='color: #000000;'>Summary:</strong><p>The company's cash flow for the given years shows that operating activities provided \\$46,327 million and \\$46,752 million in 2021 and 2022 respectively, with investing activities resulting in negative cash outflows of \\$8,154 million and \\$7,601 million during the same periods. Overall, cash from operations and existing funds serve as the primary sources of liquidity for the business.</p></div><hr/>"
      ],
      "text/plain": [
       "<IPython.core.display.HTML object>"
      ]
     },
     "metadata": {},
     "output_type": "display_data"
    },
    {
     "data": {
      "text/html": [
       "<div><strong>Pair #9</strong></div><div style='margin-bottom: 20px;'><strong style='color: #000000;'>Context:</strong><p style='background-color: #FFFFFF; padding: 10px;'># Results of Operations\n",
       "We have organized our operations into three segments: North America, International, and AWS. These segments reflect the way the Company evaluates its business performance and manages its operations. See Item 8 of Part II, \"Financial Statements and Supplementary Data -- Note 10 -- Segment Information.\"</p></div><div style='background-color: #f5f5f5; padding: 10px;'><strong style='color: #000000;'>Summary:</strong><p>The company's operations are categorized into three segments - North America, International, and AWS - for evaluation and management purposes as detailed in Item 8 of Part II under \"Segment Information\".</p></div><hr/>"
      ],
      "text/plain": [
       "<IPython.core.display.HTML object>"
      ]
     },
     "metadata": {},
     "output_type": "display_data"
    },
    {
     "data": {
      "text/html": [
       "<div><strong>Pair #10</strong></div><div style='margin-bottom: 20px;'><strong style='color: #000000;'>Context:</strong><p style='background-color: #FFFFFF; padding: 10px;'>Macroeconomic factors, including inflation, increased interest rates, significant capital market volatility, the prolonged COVID-19 pandemic, global supply chain constraints, and global economic and geopolitical developments, have direct and indirect impacts on our results of operations that are difficult to isolate and quantify. These factors contributed to increases in our operating costs during 2022, particularly across our North America and International segments, primarily due to a return to more normal, seasonal demand volumes in relation to our fulfillment network fixed costs, increased transportation and utility costs, and increased wage rates. In addition, rising fuel, utility, and food costs, rising interest rates, and recessionary fears may impact customer demand and our ability</p></div><div style='background-color: #f5f5f5; padding: 10px;'><strong style='color: #000000;'>Summary:</strong><p>Macroeconomic conditions, such as inflation, higher interest rates, volatile markets, the lingering COVID-19 pandemic, and global supply chain issues, led to elevated operational costs in 2022 through increased expenses in various areas like fulfillment networks, transportation, utilities, wages, and potential decreased customer demand due to economic uncertainty.</p></div><hr/>"
      ],
      "text/plain": [
       "<IPython.core.display.HTML object>"
      ]
     },
     "metadata": {},
     "output_type": "display_data"
    }
   ],
   "source": [
    "from IPython.display import display, HTML\n",
    "\n",
    "# Function to escape LaTeX special characters for HTML display\n",
    "def escape_latex_for_html(text):\n",
    "    return (text.replace(\"\\\\\", \"\\\\\\\\\")  # Escape backslashes\n",
    "                .replace(\"{\", \"{{\")     # Double curly braces\n",
    "                .replace(\"}\", \"}}\")     # are placeholders in `str.format()`\n",
    "                .replace(\"$\", \"\\\\$\"))   # Escape dollar signs\n",
    "\n",
    "# Iterate over each response item\n",
    "for i, item in enumerate(huggingface_output[0]['output'][0]['response']):\n",
    "    # Find the last occurrences of \"context:\" and \"summary:\"\n",
    "    last_context_index = item.rfind(\"context: \")\n",
    "    last_summary_index = item.rfind(\"summary: \")\n",
    "\n",
    "    # Extract the last context and summary from the item\n",
    "    last_context = escape_latex_for_html(item[last_context_index + len(\"context: \"):last_summary_index].strip())\n",
    "    last_summary = escape_latex_for_html(item[last_summary_index + len(\"summary: \"):].strip())\n",
    "\n",
    "    # Display the last context and summary pair with different colors and an index\n",
    "    display(HTML(f\"<div><strong>Pair #{i+1}</strong></div>\"\n",
    "                 f\"<div style='margin-bottom: 20px;'><strong style='color: #000000;'>Context:</strong>\"\n",
    "                 f\"<p style='background-color: #FFFFFF; padding: 10px;'>{last_context}</p></div>\"\n",
    "                 f\"<div style='background-color: #f5f5f5; padding: 10px;'><strong style='color: #000000;'>Summary:</strong>\"\n",
    "                 f\"<p>{last_summary}</p></div><hr/>\"))"
   ]
  },
  {
   "cell_type": "markdown",
   "id": "a08a949f-3c25-4e4f-8867-a74cadf987a4",
   "metadata": {},
   "source": [
    "Congratulations! You have now received the summary tailored to the context you provided."
   ]
  },
  {
   "cell_type": "markdown",
   "id": "5112fce7-d047-46f3-af38-82689671b1d9",
   "metadata": {},
   "source": [
    "## End of the notebook\n",
    "\n",
    "Check more Uniflow use cases in the [example folder](https://github.com/CambioML/uniflow/tree/main/example)!\n",
    "\n",
    "<a href=\"https://www.cambioml.com/\" title=\"Title\">\n",
    "    <img src=\"../image/cambioml_logo_large.png\" style=\"height: 100px; display: block; margin-left: auto; margin-right: auto;\"/>\n",
    "</a>"
   ]
  }
 ],
 "metadata": {
  "kernelspec": {
   "display_name": "Python 3 (ipykernel)",
   "language": "python",
   "name": "python3"
  },
  "language_info": {
   "codemirror_mode": {
    "name": "ipython",
    "version": 3
   },
   "file_extension": ".py",
   "mimetype": "text/x-python",
   "name": "python",
   "nbconvert_exporter": "python",
   "pygments_lexer": "ipython3",
   "version": "3.10.13"
  }
 },
 "nbformat": 4,
 "nbformat_minor": 5
}
