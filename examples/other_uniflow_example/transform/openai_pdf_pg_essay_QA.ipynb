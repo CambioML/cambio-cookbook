{
 "cells": [
  {
   "cell_type": "markdown",
   "id": "7cbc4c4a",
   "metadata": {},
   "source": [
    "# Example of generating QAs for a Paul Graham Essay\n",
    "**Source:** http://www.paulgraham.com/makersschedule.html\n",
    "\n",
    "**Description:** A famous essay by Paul Graham about the difference between the schedules of managers and makers.\n",
    "\n",
    "### Before running the code\n",
    "\n",
    "You will need to have the following packages installed:\n",
    "```\n",
    "pip install nougat-ocr pandas pypdf\n",
    "```\n",
    "\n",
    "Also, make sure you have a .env file with your OpenAI API key in the root directory of this project.\n",
    "```\n",
    "OPENAI_API_KEY=YOUR_API_KEY\n",
    "```"
   ]
  },
  {
   "cell_type": "markdown",
   "id": "b9003ac2",
   "metadata": {},
   "source": [
    "### Load Packages"
   ]
  },
  {
   "cell_type": "code",
   "execution_count": 1,
   "id": "8b5a2eb7",
   "metadata": {},
   "outputs": [],
   "source": [
    "%reload_ext autoreload\n",
    "%autoreload 2\n",
    "\n",
    "import sys\n",
    "\n",
    "sys.path.append(\".\")\n",
    "sys.path.append(\"..\")\n",
    "sys.path.append(\"../..\")"
   ]
  },
  {
   "cell_type": "code",
   "execution_count": 2,
   "id": "8d84dd70",
   "metadata": {},
   "outputs": [
    {
     "name": "stderr",
     "output_type": "stream",
     "text": [
      "/opt/conda/envs/uniflow/lib/python3.10/site-packages/tqdm/auto.py:21: TqdmWarning: IProgress not found. Please update jupyter and ipywidgets. See https://ipywidgets.readthedocs.io/en/stable/user_install.html\n",
      "  from .autonotebook import tqdm as notebook_tqdm\n"
     ]
    },
    {
     "data": {
      "text/plain": [
       "True"
      ]
     },
     "execution_count": 2,
     "metadata": {},
     "output_type": "execute_result"
    }
   ],
   "source": [
    "import os\n",
    "import pandas as pd\n",
    "from dotenv import load_dotenv\n",
    "from uniflow.flow.client import TransformClient, ExtractClient\n",
    "from uniflow.flow.config import ExtractPDFConfig, NougatModelConfig\n",
    "from uniflow.flow.config import TransformOpenAIConfig\n",
    "from uniflow.op.model.model_config import OpenAIModelConfig\n",
    "from uniflow.op.prompt import Context, PromptTemplate\n",
    "from dotenv import load_dotenv\n",
    "\n",
    "load_dotenv()"
   ]
  },
  {
   "cell_type": "markdown",
   "id": "cb677037",
   "metadata": {},
   "source": [
    "### Prepare the input data"
   ]
  },
  {
   "cell_type": "code",
   "execution_count": 3,
   "id": "a707ef78",
   "metadata": {},
   "outputs": [],
   "source": [
    "pdf_file = \"makers_schedule_managers_schedule.pdf\""
   ]
  },
  {
   "cell_type": "markdown",
   "id": "4b177df1",
   "metadata": {},
   "source": [
    "Set current directory and input data directory."
   ]
  },
  {
   "cell_type": "code",
   "execution_count": 4,
   "id": "092b355a",
   "metadata": {},
   "outputs": [],
   "source": [
    "dir_cur = os.getcwd()\n",
    "input_file = os.path.join(f\"{dir_cur}/data/raw_input/\", pdf_file)"
   ]
  },
  {
   "cell_type": "markdown",
   "id": "90151cb3-2071-4a32-8b1d-30d5ecd0d5f8",
   "metadata": {},
   "source": [
    "### Load and split the pdf"
   ]
  },
  {
   "cell_type": "code",
   "execution_count": 5,
   "id": "44307ec4",
   "metadata": {},
   "outputs": [
    {
     "name": "stderr",
     "output_type": "stream",
     "text": [
      "/opt/conda/envs/uniflow/lib/python3.10/site-packages/torch/functional.py:504: UserWarning: torch.meshgrid: in an upcoming release, it will be required to pass the indexing argument. (Triggered internally at ../aten/src/ATen/native/TensorShape.cpp:3526.)\n",
      "  return _VF.meshgrid(tensors, **kwargs)  # type: ignore[attr-defined]\n",
      "100%|█████████████████████████████████████████████████████████████████████████████████████████████████████████| 1/1 [00:19<00:00, 19.78s/it]\n"
     ]
    }
   ],
   "source": [
    "pdf_directory = [\n",
    "    {\"pdf\": input_file},\n",
    "]\n",
    "\n",
    "extract_config = ExtractPDFConfig(\n",
    "    model_config=NougatModelConfig(\n",
    "        model_name = \"0.1.0-small\",\n",
    "        batch_size = 128 # When batch_size>1, nougat will run on CUDA, otherwise it will run on CPU\n",
    "    )\n",
    ")\n",
    "\n",
    "nougat_client = ExtractClient(extract_config)\n",
    "\n",
    "pdf_output = nougat_client.run(pdf_directory)"
   ]
  },
  {
   "cell_type": "markdown",
   "id": "3537f35b-f575-4723-b99d-89116bc8453f",
   "metadata": {},
   "source": [
    "Pre-process the output context from containing elements as individual lines in a PDF to having each element contain text within a 1,000-token length."
   ]
  },
  {
   "cell_type": "code",
   "execution_count": 6,
   "id": "d6a2c092-c71d-4659-8edf-07831a9cf91f",
   "metadata": {},
   "outputs": [
    {
     "name": "stdout",
     "output_type": "stream",
     "text": [
      "['[MISSING_PAGE_EMPTY:1] capacity. A small decrease in morale is enough to kill them off. Each type of schedule works fine by itself. Problems arise when they meet. Since most powerful people operate on the manager\\'s schedule, they\\'re in a position to make everyone resonate at their frequency if they want to. But the smarter ones restrain themselves, if they know that some of the people working for them need long chunks of time to work in. Our case is an unusual one. Nearly all investors, including all VCs I know, operate on the manager\\'s schedule. But Y Combinator runs on the maker\\'s schedule. Rtm and Trevor and I do because we always have, and Jessica does too, mostly, because she\\'s gotten into sync with us. I wouldn\\'t be surprised if there start to be more companies like us. I suspect founders may increasingly be able to resist, or at least postpone, turning into managers, just as a few decades ago they started to be able to resist switching from jeans to suits. How do we manage to advise so many startups on the maker\\'s schedule? By using the classic device for simulating the manager\\'s schedule within the maker\\'s: office hours. Several times a week I set aside a chunk of time to meet founders we\\'ve funded. These chunks of time are at the end of my working day, and I wrote a signup program that ensures all the appointments within a given set of office hours are clustered at the end. Because they come at the end of my day these meetings are never an interruption. (Unless their working day ends at the same time as mine, the meeting presumably interrupts theirs, but since they made the appointment it must be worth it to them.) During busy periods, office hours sometimes get long enough that they compress the day, but they never interrupt it. When we were working on our own startup, back in the 90s, I evolved another trick for partitioning the day. I used to program from dinner till about 3 am every day, because at night no one could interrupt me. Then I\\'d sleep till about 11 am, and come in and work until dinner on what I called \"business stuff.\" I never thought of it in these terms, but in effect I had two workdays each day, one on the manager\\'s schedule and one on the maker\\'s. When you\\'re operating on the manager\\'s schedule you can do something you\\'d never want to do on the maker\\'s: you can have speculative meetings. You can meet someone just to get to know one another. If you have an empty slot in your schedule, why not? Maybe it will turn out you can help one another in some way. Business people in Silicon Valley (and the whole world, for that matter) have speculative meetings all the time. They\\'re effectively free if you\\'re on the manager\\'s schedule. They\\'re so common that there\\'s distinctive language for proposing them: saying that you want to \"grab coffee,\" for example. Speculative meetings are terribly costly if you\\'re on the maker\\'s schedule, though. Which puts us in something of a bind. Everyone assumes that, like other investors, we run on the manager\\'s schedule. So they introduce us to someone they think we ought to meet, or send us an email proposing we grab coffee. At this point we have two options, neither of them good: we can meet with them, and lose half a day\\'s work; or we can try to avoid meeting them, and probably offend them. Till recently we weren\\'t clear in our own minds about the source of the problem. We just took it for granted that we had to either blow our schedules or offend people. But now that I\\'ve realized what\\'s going on, perhaps there\\'s a third option: to write something explaining the two types of schedule. Maybe eventually, if the conflict between the manager\\'s schedule and the maker\\'s schedule starts to be more widely understood, it will become less of a problem. Those of us on the maker\\'s schedule are willing to compromise. We know we have to have some number of meetings. All we ask from those on the manager\\'s schedule is that they understand the cost. **Thanks** to Sam Altman, Trevor Blackwell, Paul Buchheit, Jessica Livingston, and Robert Morris for reading drafts of this. **Related:** * How to Do What You Love\\n* Good and Bad Procrastination\\n* Turkish Translation\\n* French Translation\\n* Korean Translation']\n"
     ]
    }
   ],
   "source": [
    "def count_tokens(text):\n",
    "    # Assuming each word is a token, this function counts the number of tokens in the text.\n",
    "    return len(text.split())\n",
    "\n",
    "def recreate_string(pdf_output):\n",
    "    recreated_output = []\n",
    "    current_element = \"\"\n",
    "    for line in pdf_output:\n",
    "        line = line.rstrip('\\n')  # Remove the trailing newline character\n",
    "        if current_element:\n",
    "            temp_element = current_element + \" \" + line\n",
    "        else:\n",
    "            temp_element = line\n",
    "\n",
    "        if count_tokens(temp_element) <= 1000:\n",
    "            current_element = temp_element\n",
    "        else:\n",
    "            recreated_output.append(current_element)\n",
    "            current_element = line\n",
    "\n",
    "    if current_element:\n",
    "        recreated_output.append(current_element)\n",
    "\n",
    "    return recreated_output\n",
    "\n",
    "page_contents = recreate_string(pdf_output[0]['output'][0]['text'])\n",
    "\n",
    "print(page_contents)"
   ]
  },
  {
   "cell_type": "code",
   "execution_count": 13,
   "id": "878f97df",
   "metadata": {},
   "outputs": [],
   "source": [
    "guided_prompt = PromptTemplate(\n",
    "    instruction=\"Generate one question and its corresponding answer based on the context. Following the format of the examples below to include the same context, question, and answer in the response.\",\n",
    "    few_shot_prompt=[\n",
    "        Context(\n",
    "            context=\"In 1948, Claude E. Shannon published A Mathematical Theory of\\nCommunication (Shannon, 1948) establishing the theory of\\ninformation. In his article, Shannon introduced the concept of\\ninformation entropy for the first time. We will begin our journey here.\",\n",
    "            question=\"Who published A Mathematical Theory of Communication in 1948?\",\n",
    "            answer=\"Claude E. Shannon.\"\n",
    "        ),\n",
    "    ]\n",
    ")\n",
    "\n",
    "data = [ Context(context=page_contents[0])]"
   ]
  },
  {
   "cell_type": "code",
   "execution_count": 8,
   "id": "27b957ae",
   "metadata": {},
   "outputs": [
    {
     "data": {
      "text/plain": [
       "[Context(context='[MISSING_PAGE_EMPTY:1] capacity. A small decrease in morale is enough to kill them off. Each type of schedule works fine by itself. Problems arise when they meet. Since most powerful people operate on the manager\\'s schedule, they\\'re in a position to make everyone resonate at their frequency if they want to. But the smarter ones restrain themselves, if they know that some of the people working for them need long chunks of time to work in. Our case is an unusual one. Nearly all investors, including all VCs I know, operate on the manager\\'s schedule. But Y Combinator runs on the maker\\'s schedule. Rtm and Trevor and I do because we always have, and Jessica does too, mostly, because she\\'s gotten into sync with us. I wouldn\\'t be surprised if there start to be more companies like us. I suspect founders may increasingly be able to resist, or at least postpone, turning into managers, just as a few decades ago they started to be able to resist switching from jeans to suits. How do we manage to advise so many startups on the maker\\'s schedule? By using the classic device for simulating the manager\\'s schedule within the maker\\'s: office hours. Several times a week I set aside a chunk of time to meet founders we\\'ve funded. These chunks of time are at the end of my working day, and I wrote a signup program that ensures all the appointments within a given set of office hours are clustered at the end. Because they come at the end of my day these meetings are never an interruption. (Unless their working day ends at the same time as mine, the meeting presumably interrupts theirs, but since they made the appointment it must be worth it to them.) During busy periods, office hours sometimes get long enough that they compress the day, but they never interrupt it. When we were working on our own startup, back in the 90s, I evolved another trick for partitioning the day. I used to program from dinner till about 3 am every day, because at night no one could interrupt me. Then I\\'d sleep till about 11 am, and come in and work until dinner on what I called \"business stuff.\" I never thought of it in these terms, but in effect I had two workdays each day, one on the manager\\'s schedule and one on the maker\\'s. When you\\'re operating on the manager\\'s schedule you can do something you\\'d never want to do on the maker\\'s: you can have speculative meetings. You can meet someone just to get to know one another. If you have an empty slot in your schedule, why not? Maybe it will turn out you can help one another in some way. Business people in Silicon Valley (and the whole world, for that matter) have speculative meetings all the time. They\\'re effectively free if you\\'re on the manager\\'s schedule. They\\'re so common that there\\'s distinctive language for proposing them: saying that you want to \"grab coffee,\" for example. Speculative meetings are terribly costly if you\\'re on the maker\\'s schedule, though. Which puts us in something of a bind. Everyone assumes that, like other investors, we run on the manager\\'s schedule. So they introduce us to someone they think we ought to meet, or send us an email proposing we grab coffee. At this point we have two options, neither of them good: we can meet with them, and lose half a day\\'s work; or we can try to avoid meeting them, and probably offend them. Till recently we weren\\'t clear in our own minds about the source of the problem. We just took it for granted that we had to either blow our schedules or offend people. But now that I\\'ve realized what\\'s going on, perhaps there\\'s a third option: to write something explaining the two types of schedule. Maybe eventually, if the conflict between the manager\\'s schedule and the maker\\'s schedule starts to be more widely understood, it will become less of a problem. Those of us on the maker\\'s schedule are willing to compromise. We know we have to have some number of meetings. All we ask from those on the manager\\'s schedule is that they understand the cost. **Thanks** to Sam Altman, Trevor Blackwell, Paul Buchheit, Jessica Livingston, and Robert Morris for reading drafts of this. **Related:** * How to Do What You Love\\n* Good and Bad Procrastination\\n* Turkish Translation\\n* French Translation\\n* Korean Translation')]"
      ]
     },
     "execution_count": 8,
     "metadata": {},
     "output_type": "execute_result"
    }
   ],
   "source": [
    "data"
   ]
  },
  {
   "cell_type": "code",
   "execution_count": 9,
   "id": "107e4329",
   "metadata": {},
   "outputs": [],
   "source": [
    "config = TransformOpenAIConfig(\n",
    "    model_config=OpenAIModelConfig(response_format={\"type\": \"json_object\"}),\n",
    ")\n",
    "client = TransformClient(config)"
   ]
  },
  {
   "cell_type": "code",
   "execution_count": 10,
   "id": "b53db70a",
   "metadata": {},
   "outputs": [
    {
     "name": "stderr",
     "output_type": "stream",
     "text": [
      "100%|█████████████████████████████████████████████████████████████████████████████████████████████████████████| 1/1 [00:01<00:00,  1.77s/it]\n"
     ]
    }
   ],
   "source": [
    "output = client.run(data)"
   ]
  },
  {
   "cell_type": "code",
   "execution_count": 11,
   "id": "30701cfe",
   "metadata": {},
   "outputs": [
    {
     "data": {
      "text/plain": [
       "[{'output': [{'response': [{'context': \"When you're operating on the manager's schedule you can do something you'd never want to do on the maker's: you can have speculative meetings. You can meet someone just to get to know one another. If you have an empty slot in your schedule, why not? Maybe it will turn out you can help one another in some way.\",\n",
       "      'question': \"What can you do on the manager's schedule that you would never want to do on the maker's schedule?\",\n",
       "      'answer': 'You can have speculative meetings and meet someone just to get to know one another.'}],\n",
       "    'error': 'No errors.'}],\n",
       "  'root': <uniflow.node.Node at 0x7fcd1cd68970>}]"
      ]
     },
     "execution_count": 11,
     "metadata": {},
     "output_type": "execute_result"
    }
   ],
   "source": [
    "output"
   ]
  },
  {
   "cell_type": "code",
   "execution_count": 12,
   "id": "f3e3ca56",
   "metadata": {},
   "outputs": [
    {
     "data": {
      "text/html": [
       "<style type=\"text/css\">\n",
       "#T_a3eed th {\n",
       "  text-align: left;\n",
       "}\n",
       "#T_a3eed_row0_col0, #T_a3eed_row0_col1, #T_a3eed_row0_col2 {\n",
       "  text-align: left;\n",
       "}\n",
       "</style>\n",
       "<table id=\"T_a3eed\">\n",
       "  <thead>\n",
       "    <tr>\n",
       "      <th class=\"blank level0\" >&nbsp;</th>\n",
       "      <th id=\"T_a3eed_level0_col0\" class=\"col_heading level0 col0\" >context</th>\n",
       "      <th id=\"T_a3eed_level0_col1\" class=\"col_heading level0 col1\" >question</th>\n",
       "      <th id=\"T_a3eed_level0_col2\" class=\"col_heading level0 col2\" >answer</th>\n",
       "    </tr>\n",
       "  </thead>\n",
       "  <tbody>\n",
       "    <tr>\n",
       "      <th id=\"T_a3eed_level0_row0\" class=\"row_heading level0 row0\" >0</th>\n",
       "      <td id=\"T_a3eed_row0_col0\" class=\"data row0 col0\" >When you're operating on the manager's schedule you can do something you'd never want to do on the maker's: you can have speculative meetings. You can meet someone just to get to know one another. If you have an empty slot in your schedule, why not? Maybe it will turn out you can help one another in some way.</td>\n",
       "      <td id=\"T_a3eed_row0_col1\" class=\"data row0 col1\" >What can you do on the manager's schedule that you would never want to do on the maker's schedule?</td>\n",
       "      <td id=\"T_a3eed_row0_col2\" class=\"data row0 col2\" >You can have speculative meetings and meet someone just to get to know one another.</td>\n",
       "    </tr>\n",
       "  </tbody>\n",
       "</table>\n"
      ],
      "text/plain": [
       "<pandas.io.formats.style.Styler at 0x7fccf36d3250>"
      ]
     },
     "execution_count": 12,
     "metadata": {},
     "output_type": "execute_result"
    }
   ],
   "source": [
    "# Extracting context, question, and answer into a DataFrame\n",
    "contexts = []\n",
    "questions = []\n",
    "answers = []\n",
    "\n",
    "for item in output:\n",
    "    for i in item['output']:\n",
    "        for response in i['response']:\n",
    "            contexts.append(response['context'])\n",
    "            questions.append(response['question'])\n",
    "            answers.append(response['answer'])\n",
    "\n",
    "df = pd.DataFrame({\n",
    "    'context': contexts,\n",
    "    'question': questions,\n",
    "    'answer': answers\n",
    "})\n",
    "\n",
    "# Set display options\n",
    "pd.set_option('display.max_colwidth', None)  # or use a specific width like 50\n",
    "pd.set_option('display.width', 1000)\n",
    "\n",
    "styled_df = df.head().style.set_properties(**{'text-align': 'left'}).set_table_styles([{\n",
    "    'selector': 'th',\n",
    "    'props': [('text-align', 'left')]\n",
    "}])\n",
    "styled_df"
   ]
  }
 ],
 "metadata": {
  "kernelspec": {
   "display_name": "Python 3 (ipykernel)",
   "language": "python",
   "name": "python3"
  },
  "language_info": {
   "codemirror_mode": {
    "name": "ipython",
    "version": 3
   },
   "file_extension": ".py",
   "mimetype": "text/x-python",
   "name": "python",
   "nbconvert_exporter": "python",
   "pygments_lexer": "ipython3",
   "version": "3.10.13"
  }
 },
 "nbformat": 4,
 "nbformat_minor": 5
}
