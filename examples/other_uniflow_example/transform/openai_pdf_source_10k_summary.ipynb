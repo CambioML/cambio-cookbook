{
 "cells": [
  {
   "cell_type": "markdown",
   "id": "7cbc4c4a",
   "metadata": {},
   "source": [
    "# Example of generating summaries for a 10K\n",
    "In this example, we will show you how to generate page summaries from a pdf using OpenAI's models via `uniflow`'s [OpenAIJsonModelFlow](https://github.com/CambioML/uniflow/blob/main/uniflow/flow/model_flow.py#L125).\n",
    "\n",
    "For this example, we're using a [10K from Nike](https://investors.nike.com/investors/news-events-and-reports/).\n",
    "\n",
    "### Before running the code\n",
    "\n",
    "You will need to `uniflow` conda environment to run this notebook. You can set up the environment following the instruction: https://github.com/CambioML/uniflow/tree/main#installation.\n",
    "\n",
    "Next, you will need a valid [OpenAI API key](https://platform.openai.com/api-keys) to run the code. Once you have the key, set it as the environment variable `OPENAI_API_KEY` within a `.env` file in the root directory of this repository. For more details, see this [instruction](https://github.com/CambioML/uniflow/tree/main#api-keys)\n",
    "\n",
    "Finally, we are storing the Nike 10K in the `data\\raw_input` directory as \"nike-10k-2023.pdf\". You can download the file from [here](https://s1.q4cdn.com/806093406/files/doc_downloads/2023/414759-1-_5_Nike-NPS-Combo_Form-10-K_WR.pdf).\n",
    "\n",
    "### Update system path"
   ]
  },
  {
   "cell_type": "code",
   "execution_count": 1,
   "id": "d3a6f488",
   "metadata": {},
   "outputs": [],
   "source": [
    "%reload_ext autoreload\n",
    "%autoreload 2\n",
    "\n",
    "import sys\n",
    "\n",
    "sys.path.append(\".\")\n",
    "sys.path.append(\"..\")\n",
    "sys.path.append(\"../..\")"
   ]
  },
  {
   "cell_type": "markdown",
   "id": "37bb8252",
   "metadata": {},
   "source": [
    "### Install helper packages"
   ]
  },
  {
   "cell_type": "code",
   "execution_count": 2,
   "id": "5473d8fa",
   "metadata": {},
   "outputs": [
    {
     "name": "stdout",
     "output_type": "stream",
     "text": [
      "\u001b[34mInstalling dependencies from lock file\u001b[39m\n",
      "\n",
      "\u001b[39;1mPackage operations\u001b[39;22m: \u001b[34m0\u001b[39m installs, \u001b[34m1\u001b[39m update, \u001b[34m0\u001b[39m removals\n",
      "\n",
      "  \u001b[34;1m•\u001b[39;22m \u001b[39mUpdating \u001b[39m\u001b[36mplatformdirs\u001b[39m\u001b[39m (\u001b[39m\u001b[39;1m3.11.0\u001b[39;22m\u001b[39m -> \u001b[39m\u001b[39;1m4.2.0\u001b[39;22m\u001b[39m)\u001b[39m: \u001b[34mPending...\u001b[39m\n",
      "\u001b[1A\u001b[0J  \u001b[34;1m•\u001b[39;22m \u001b[39mUpdating \u001b[39m\u001b[36mplatformdirs\u001b[39m\u001b[39m (\u001b[39m\u001b[39;1m3.11.0\u001b[39;22m\u001b[39m -> \u001b[39m\u001b[39;1m4.2.0\u001b[39;22m\u001b[39m)\u001b[39m: \u001b[34mInstalling...\u001b[39m\n",
      "\u001b[1A\u001b[0J  \u001b[32;1m•\u001b[39;22m \u001b[39mUpdating \u001b[39m\u001b[36mplatformdirs\u001b[39m\u001b[39m (\u001b[39m\u001b[39;1m3.11.0\u001b[39;22m\u001b[39m -> \u001b[39m\u001b[32m4.2.0\u001b[39m\u001b[39m)\u001b[39m\n"
     ]
    }
   ],
   "source": [
    "!{sys.executable} -m pip install -q pandas pypdf poetry nougat-ocr\n",
    "!poetry -C ../../ install --no-root # install uniflow dependencies"
   ]
  },
  {
   "cell_type": "markdown",
   "id": "4deacb2f",
   "metadata": {},
   "source": [
    "### Import dependencies"
   ]
  },
  {
   "cell_type": "code",
   "execution_count": 3,
   "id": "8d84dd70",
   "metadata": {},
   "outputs": [
    {
     "name": "stderr",
     "output_type": "stream",
     "text": [
      "/opt/conda/envs/uniflow/lib/python3.10/site-packages/tqdm/auto.py:21: TqdmWarning: IProgress not found. Please update jupyter and ipywidgets. See https://ipywidgets.readthedocs.io/en/stable/user_install.html\n",
      "  from .autonotebook import tqdm as notebook_tqdm\n"
     ]
    },
    {
     "data": {
      "text/plain": [
       "True"
      ]
     },
     "execution_count": 3,
     "metadata": {},
     "output_type": "execute_result"
    }
   ],
   "source": [
    "from dotenv import load_dotenv\n",
    "import os\n",
    "import pandas as pd\n",
    "from uniflow.flow.client import TransformClient, ExtractClient\n",
    "from uniflow.flow.config import TransformOpenAIConfig\n",
    "from uniflow.flow.config import ExtractPDFConfig, NougatModelConfig\n",
    "from uniflow.op.model.model_config import OpenAIModelConfig\n",
    "from uniflow.op.prompt import Context, PromptTemplate\n",
    "\n",
    "load_dotenv()\n"
   ]
  },
  {
   "cell_type": "markdown",
   "id": "cb677037",
   "metadata": {},
   "source": [
    "### Prepare the input data\n",
    "First, we need to pre-process the PDF to get text chunks that we can feed into the model. We will use `Nougat` to process the PDF data."
   ]
  },
  {
   "cell_type": "code",
   "execution_count": 4,
   "id": "a707ef78",
   "metadata": {},
   "outputs": [],
   "source": [
    "pdf_file = \"amazon-10k-2023.pdf\"\n",
    "# pdf_file = \"nike-10k-2023.pdf\"\n",
    "# pdf_file = \"alphabet-10k-2023.pdf\""
   ]
  },
  {
   "cell_type": "markdown",
   "id": "4b177df1",
   "metadata": {},
   "source": [
    "##### Set current directory and input data directory."
   ]
  },
  {
   "cell_type": "code",
   "execution_count": 5,
   "id": "092b355a",
   "metadata": {},
   "outputs": [],
   "source": [
    "dir_cur = os.getcwd()\n",
    "input_file = os.path.join(f\"{dir_cur}/data/raw_input/\", pdf_file)"
   ]
  },
  {
   "cell_type": "markdown",
   "id": "f22d8814",
   "metadata": {},
   "source": [
    "##### Load and split the pdf"
   ]
  },
  {
   "cell_type": "code",
   "execution_count": 6,
   "id": "a40af04a",
   "metadata": {},
   "outputs": [
    {
     "name": "stderr",
     "output_type": "stream",
     "text": [
      "/opt/conda/envs/uniflow/lib/python3.10/site-packages/torch/functional.py:504: UserWarning: torch.meshgrid: in an upcoming release, it will be required to pass the indexing argument. (Triggered internally at ../aten/src/ATen/native/TensorShape.cpp:3526.)\n",
      "  return _VF.meshgrid(tensors, **kwargs)  # type: ignore[attr-defined]\n",
      "  0%|                                                                                                                 | 0/1 [00:00<?, ?it/s]"
     ]
    },
    {
     "name": "stdout",
     "output_type": "stream",
     "text": [
      "INFO: likely hallucinated title at the end of the page: ## Appendix B\n"
     ]
    },
    {
     "name": "stderr",
     "output_type": "stream",
     "text": [
      "100%|████████████████████████████████████████████████████████████████████████████████████████████████████████| 1/1 [07:10<00:00, 430.25s/it]\n"
     ]
    }
   ],
   "source": [
    "pdf_directory = [\n",
    "    {\"pdf\": input_file},\n",
    "]\n",
    "\n",
    "extract_config = ExtractPDFConfig(\n",
    "    model_config=NougatModelConfig(\n",
    "        model_name = \"0.1.0-small\",\n",
    "        batch_size = 128 # When batch_size>1, nougat will run on CUDA, otherwise it will run on CPU\n",
    "    )\n",
    ")\n",
    "\n",
    "nougat_client = ExtractClient(extract_config)\n",
    "\n",
    "pdf_output = nougat_client.run(pdf_directory)"
   ]
  },
  {
   "cell_type": "markdown",
   "id": "6e03bcab-3b71-48eb-a2e3-1f79dfe13bc0",
   "metadata": {},
   "source": [
    "##### Pre-process the output context from containing elements as individual lines in a PDF to having each element contain text within a 1,000-token length."
   ]
  },
  {
   "cell_type": "code",
   "execution_count": 7,
   "id": "990c6eef-5c94-41c7-9de5-a1637ad71122",
   "metadata": {},
   "outputs": [],
   "source": [
    "def count_tokens(text):\n",
    "    # Assuming each word is a token, this function counts the number of tokens in the text.\n",
    "    return len(text.split())\n",
    "\n",
    "def recreate_string(pdf_output):\n",
    "    recreated_output = []\n",
    "    current_element = \"\"\n",
    "    for line in pdf_output:\n",
    "        line = line.rstrip('\\n')  # Remove the trailing newline character\n",
    "        if current_element:\n",
    "            temp_element = current_element + \" \" + line\n",
    "        else:\n",
    "            temp_element = line\n",
    "\n",
    "        if count_tokens(temp_element) <= 1000:\n",
    "            current_element = temp_element\n",
    "        else:\n",
    "            recreated_output.append(current_element)\n",
    "            current_element = line\n",
    "\n",
    "    if current_element:\n",
    "        recreated_output.append(current_element)\n",
    "\n",
    "    return recreated_output\n",
    "\n",
    "page_contents = recreate_string(pdf_output[0]['output'][0]['text'])"
   ]
  },
  {
   "cell_type": "markdown",
   "id": "ca2b7e6b",
   "metadata": {},
   "source": [
    "### Prepare sample prompts\n",
    "\n",
    "First, we need to demonstrate sample prompts for LLM. Because we are not generating the default questions and answers, we need to have a custom `instruction` and custom `examples`, which we configure in the `PromptTemplate` class.\n",
    "\n",
    "First, we give a custom `instruction` to the `PromptTemplate`. This ensures we are instructing the LLM to generate summaries instead of the default questions and answers.\n",
    "\n",
    "Next, we give a sample list of `Context` examples to the `PromptTemplate` class. We pass in a custom `summary` property into our `Context` objects. This is an example summary based on the `context`."
   ]
  },
  {
   "cell_type": "code",
   "execution_count": 8,
   "id": "0d0fe58d",
   "metadata": {},
   "outputs": [],
   "source": [
    "guided_prompt = PromptTemplate(\n",
    "    instruction=\"Generate a one sentence summary based on the last context below. Follow the format of the examples below to include context and summary in the response\",\n",
    "    few_shot_prompt=[\n",
    "        Context(\n",
    "            context=\"When you're operating on the maker's schedule, meetings are a disaster. A single meeting can blow a whole afternoon, by breaking it into two pieces each too small to do anything hard in. Plus you have to remember to go to the meeting. That's no problem for someone on the manager's schedule. There's always something coming on the next hour; the only question is what. But when someone on the maker's schedule has a meeting, they have to think about it.\",\n",
    "            summary=\"Meetings disrupt the productivity of those following a maker's schedule, dividing their time into impractical segments, while those on a manager's schedule are accustomed to a continuous flow of tasks.\",\n",
    "        ),\n",
    "    ],\n",
    ")"
   ]
  },
  {
   "cell_type": "markdown",
   "id": "8cf645d3",
   "metadata": {},
   "source": [
    "Next, for the given `page_contents` above, we convert them to the `Context` class to be processed by `uniflow`."
   ]
  },
  {
   "cell_type": "code",
   "execution_count": 9,
   "id": "76d591af",
   "metadata": {},
   "outputs": [
    {
     "data": {
      "text/plain": [
       "[Context(context='In addition, failure to optimize inventory or staffing in our fulfillment network increases our net shipping cost by requiring long-zone or partial shipments. We and our co-sourcers may be unable to adequately staff our fulfillment network and customer service centers. For example, productivity across our fulfillment network currently is being affected by regional labor market and global supply chain constraints, which increase payroll costs and make it difficult to hire, train, and deploy a sufficient number of people to operate our fulfillment network as efficiently as we would like. Under some of our commercial agreements, we maintain the inventory of other companies, thereby increasing the complexity of tracking inventory and operating our fulfillment network. Our failure to properly h', summary=''),\n",
       " Context(context='We also rely on a significant number of personnel to operate our stores, fulfillment network, and data centers and carry out our other operations. Failure to successfully hire, train, manage, and retain sufficient personnel to meet our needs can strain our operations, increase payroll and other costs, and harm our business and reputation. In addition, changes in laws and regulations applicable to employees, independent contractors, and temporary personnel could increase our payroll costs, decrease our operational flexibility, and negatively impact how we are able to staff our operations and supplement our workforce. We are also subject to labor union efforts to organize groups of our employees from time to time. These organizational efforts, if successful, decrease our operational flexibil', summary=''),\n",
       " Context(context='* disruption of our ongoing business, including loss of management focus on existing businesses;\\n* problems retaining key personnel;\\n* additional operating losses and expenses of the businesses we acquired or in which we invested;\\n* the potential impairment of tangible and intangible assets and goodwill, including as a result of acquisitions;\\n* the potential impairment of customer and other relationships of the company we acquired or in which we invested or our own customers as a result of any integration of operations;\\n* the difficulty of completing such transactions, including obtaining regulatory approvals or satisfying other closing conditions, and achieving anticipated benefits within expected timeframes, or at all;\\n* the difficulty of incorporating acquired operations, technology, an', summary=''),\n",
       " Context(context='In addition, we provide regulated services in certain jurisdictions because we enable customers to keep account balances with us and transfer money to third parties, and because we provide services to third parties to facilitate payments on their behalf. Jurisdictions subject us to requirements for licensing, regulatory inspection, bonding and capital maintenance, the use, handling, and segregation of transferred funds, consumer disclosures, maintaining or processing data, and authentication. We are also subject to or voluntarily comply with a number of other laws and regulations relating to payments, money laundering, international money transfers, privacy, data use, data protection, data security, data localization, network security, consumer protection, and electronic fund transfers. If', summary=''),\n",
       " Context(context='As an innovative company offering a wide range of consumer and business products and services around the world, we are regularly subject to actual and threatened claims, litigation, reviews, investigations, and other proceedings, including proceedings by governments and regulatory authorities, involving a wide range of issues, including patent and other intellectual property matters, taxes, labor and employment, competition and antitrust, privacy, data use, data protection, data security, data localization, network security, consumer protection, commercial disputes, goods and services offered by us and by third parties, and other matters. The number and scale of these proceedings have increased over time as our businesses have expanded in scope and geographic reach, as our products, servic', summary=''),\n",
       " Context(context='We are also subject to tax controversies in various jurisdictions that can result in tax assessments against us. Developments in an audit, investigation, or other tax controversy can have a material effect on our operating results or cash flows in the period or periods for which that development occurs, as well as for prior and subsequent periods. Due to the inherent complexity and uncertainty of these matters, interpretations of certain tax laws by authorities, and judicial, administrative, and regulatory processes in certain jurisdictions, the final outcome of any such controversy may be materially different from our expectations. For example, in February 2023, the Indian Tax Authority determined that tax applies to cloud services fees paid to the U.S. We are contesting this determinatio', summary=''),\n",
       " Context(context='_Our financial focus is on long-term, sustainable growth in free cash flows._ Free cash flows are driven primarily by increasing operating income and efficiently managing accounts receivable, inventory, accounts payable, and cash capital expenditures, including our decision to purchase or lease property and equipment. Increases in operating income primarily result from increases in sales of products and services and efficiently managing our operating costs, partially offset by investments we make in longer-term strategic initiatives, including capital expenditures focused on improving the customer experience. To increase sales of products and services, we focus on improving all aspects of the customer experience, including lowering prices, improving availability, offering faster delivery a', summary=''),\n",
       " Context(context='For additional information about each line item addressed above, refer to Item 8 of Part II, \"Financial Statements and Supplementary Data -- Note 1 -- Description of Business, Accounting Policies, and Supplemental Disclosures.\" Our Annual Report on Form 10-K for the year ended December 31, 2021 includes a discussion and analysis of our financial condition and results of operations for the year ended December 31, 2020 in Item 7 of Part II, \"Management\\'s Discussion and Analysis of Financial Condition and Results of Operations.\" **Critical Accounting Estimates** The preparation of financial statements in conformity with generally accepted accounting principles of the United States (\"GAAP\") requires estimates and assumptions that affect the reported amounts of assets and liabilities, revenues ', summary=''),\n",
       " Context(context='Cash provided by (used in) operating activities was $46.3 billion and $46.8 billion in 2021 and 2022. Our operating cash flows result primarily from cash received from our consumer, seller, developer, enterprise, and content reactor customers, and advertisers, offset by cash payments we make for products and services, employee compensation, payment processing and related transaction costs, operating leases, and interest payments. Cash received from our customers and other activities generally corresponds to our net sales. The increase in operating cash flow in 2022, compared to the prior year, was primarily due to the increase in net income, excluding non-cash expenses, partially offset by changes in working capital. Working capital at any specific point in time is subject to many variable', summary=''),\n",
       " Context(context='We have organized our operations into three segments: North America, International, and AWS. These segments reflect the way the Company evaluates its business performance and manages its operations. See Item 8 of Part II, \"Financial Statements and Supplementary Data -- Note 10 -- Segment Information.\" #### Overview Macroeconomic factors, including inflation, increased interest rates, significant capital market volatility, the prolonged COVID-19 pandemic, global supply chain constraints, and global economic and geopolitical developments, have direct and indirect impacts on our results of operations that are difficult to isolate and quantify. These factors contributed to increases in our operating costs during 2022, particularly across our North America and International segments, primarily ', summary='')]"
      ]
     },
     "execution_count": 9,
     "metadata": {},
     "output_type": "execute_result"
    }
   ],
   "source": [
    "data = [ Context(context=p[:800], summary=\"\") for p in page_contents[6:16] if len(p) > 200 ]\n",
    "data"
   ]
  },
  {
   "cell_type": "markdown",
   "id": "9d66681c",
   "metadata": {},
   "source": [
    "### Use LLM to generate data\n",
    "\n",
    "In this example, we will use the [OpenAIModelConfig](https://github.com/CambioML/uniflow/blob/main/uniflow/model/config.py#L17)'s default LLM to generate questions and answers.\n",
    "\n",
    "Here, we pass in our `guided_prompt` to the `TransformOpenAIConfig` to use our customized instructions and examples, instead of the `uniflow` default ones.\n",
    "\n",
    "We also want to get the response in the `json` format instead of the `text` default, so we set the `response_format` to `json_object`."
   ]
  },
  {
   "cell_type": "code",
   "execution_count": 10,
   "id": "8588eb68",
   "metadata": {},
   "outputs": [],
   "source": [
    "config = TransformOpenAIConfig(\n",
    "    prompt_template=guided_prompt,\n",
    "    model_config=OpenAIModelConfig(response_format={\"type\": \"json_object\"}),\n",
    ")\n",
    "client = TransformClient(config)"
   ]
  },
  {
   "cell_type": "markdown",
   "id": "5eb0b77f",
   "metadata": {},
   "source": [
    "Now we call the `run` method on the `client` object to execute the question-answer generation operation on the data shown above."
   ]
  },
  {
   "cell_type": "code",
   "execution_count": 11,
   "id": "78b5ee28",
   "metadata": {},
   "outputs": [
    {
     "name": "stderr",
     "output_type": "stream",
     "text": [
      "100%|███████████████████████████████████████████████████████████████████████████████████████████████████████| 10/10 [00:19<00:00,  1.91s/it]\n"
     ]
    }
   ],
   "source": [
    "output = client.run(data)"
   ]
  },
  {
   "cell_type": "markdown",
   "id": "54d62f27",
   "metadata": {},
   "source": [
    "### Process the output\n",
    "\n",
    "Let's take a look of the generated output. We need to do a little postprocessing on the raw output."
   ]
  },
  {
   "cell_type": "code",
   "execution_count": 12,
   "id": "0d67478a",
   "metadata": {},
   "outputs": [
    {
     "name": "stdout",
     "output_type": "stream",
     "text": [
      "Missing context or summary in response: {'summary': 'Failure to optimize inventory and staffing in the fulfillment network increases shipping costs and affects productivity due to labor market and supply chain constraints, making it difficult to efficiently operate the network and deploy sufficient staff.'}\n",
      "Missing context or summary in response: {'summary': \"Operating on the maker's schedule can be disrupted by meetings, while those on the manager's schedule are accustomed to a continuous flow of tasks.\"}\n",
      "Missing context or summary in response: {'summary': \"Those on a maker's schedule find meetings disruptive and impractical, while those on a manager's schedule are accustomed to a continuous flow of tasks.\"}\n",
      "Missing context or summary in response: {'few_shot_response': [{'context': \"When you're operating on the maker's schedule, meetings are a disaster. A single meeting can blow a whole afternoon, by breaking it into two pieces each too small to do anything hard in. Plus you have to remember to go to the meeting. That's no problem for someone on the manager's schedule. There's always something coming on the next hour; the only question is what. But when someone on the maker's schedule has a meeting, they have to think about it.\", 'summary': \"Meetings disrupt the productivity of those following a maker's schedule, dividing their time into impractical segments, while those on a manager's schedule are accustomed to a continuous flow of tasks.\"}, {'context': 'As an innovative company offering a wide range of consumer and business products and services around the world, we are regularly subject to actual and threatened claims, litigation, reviews, investigations, and other proceedings, including proceedings by governments and regulatory authorities, involving a wide range of issues, including patent and other intellectual property matters, taxes, labor and employment, competition and antitrust, privacy, data use, data protection, data security, data localization, network security, consumer protection, commercial disputes, goods and services offered by us and by third parties, and other matters. The number and scale of these proceedings have increased over time as our businesses have expanded in scope and geographic reach, as our products, servic', 'summary': 'Need more context to generate a summary.'}]}\n",
      "Missing context or summary in response: {'summary': 'Unforeseen tax controversies in various jurisdictions can significantly impact operating results and cash flows, as the final outcome may differ from expectations due to the complexity and uncertainty of tax laws and regulatory processes.'}\n",
      "Missing context or summary in response: {'summary': 'Long-term, sustainable growth in free cash flows is driven by increasing operating income and efficiently managing accounts receivable, inventory, accounts payable, and cash capital expenditures, with a focus on improving the customer experience.'}\n",
      "Missing context or summary in response: {'summary': \"Meetings disrupt the productivity of those following a maker's schedule, dividing their time into impractical segments, while those on a manager's schedule are accustomed to a continuous flow of tasks.\"}\n",
      "Missing context or summary in response: {'summary': 'Operating cash flow for 2022 increased due to higher net income, offset by changes in working capital, primarily resulting from cash received from various customer segments and activities, including net sales.'}\n",
      "Missing context or summary in response: {'response': [{'context': \"When you're operating on the maker's schedule, meetings are a disaster. A single meeting can blow a whole afternoon, by breaking it into two pieces each too small to do anything hard in. Plus you have to remember to go to the meeting. That's no problem for someone on the manager's schedule. There's always something coming on the next hour; the only question is what. But when someone on the maker's schedule has a meeting, they have to think about it.\", 'summary': \"Meetings disrupt the productivity of those following a maker's schedule, dividing their time into impractical segments, while those on a manager's schedule are accustomed to a continuous flow of tasks.\"}, {'context': 'We have organized our operations into three segments: North America, International, and AWS. These segments reflect the way the Company evaluates its business performance and manages its operations. See Item 8 of Part II, \"Financial Statements and Supplementary Data -- Note 10 -- Segment Information.\" #### Overview Macroeconomic factors, including inflation, increased interest rates, significant capital market volatility, the prolonged COVID-19 pandemic, global supply chain constraints, and global economic and geopolitical developments, have direct and indirect impacts on our results of operations that are difficult to isolate and quantify. These factors contributed to increases in our operating costs during 2022, particularly across our North America and International segments, primarily ', 'summary': \"The company's operations are organized into three segments, and macroeconomic factors such as inflation, increased interest rates, and the COVID-19 pandemic have impacted their operating costs in North America and International segments.\"}]}\n"
     ]
    },
    {
     "data": {
      "text/html": [
       "<style type=\"text/css\">\n",
       "#T_b27aa th {\n",
       "  text-align: left;\n",
       "}\n",
       "#T_b27aa_row0_col0, #T_b27aa_row0_col1 {\n",
       "  text-align: left;\n",
       "}\n",
       "</style>\n",
       "<table id=\"T_b27aa\">\n",
       "  <thead>\n",
       "    <tr>\n",
       "      <th class=\"blank level0\" >&nbsp;</th>\n",
       "      <th id=\"T_b27aa_level0_col0\" class=\"col_heading level0 col0\" >Context</th>\n",
       "      <th id=\"T_b27aa_level0_col1\" class=\"col_heading level0 col1\" >Summaries</th>\n",
       "    </tr>\n",
       "  </thead>\n",
       "  <tbody>\n",
       "    <tr>\n",
       "      <th id=\"T_b27aa_level0_row0\" class=\"row_heading level0 row0\" >0</th>\n",
       "      <td id=\"T_b27aa_row0_col0\" class=\"data row0 col0\" > * disruption of our ongoing business, including loss of management focus on existing businesses;\n",
       "* problems retaining key personnel;\n",
       "* additional operating losses and expenses of the businesses we acquired or in which we invested;\n",
       "* the potential impairment of tangible and intangible assets and goodwill, including as a result of acquisitions;\n",
       "* the potential impairment of customer and other relationships of the company we acquired or in which we invested or our own customers as a result of any integration of operations;\n",
       "* the difficulty of completing such transactions, including obtaining regulatory approvals or satisfying other closing conditions, and achieving anticipated benefits within expected timeframes, or at all;\n",
       "* the difficulty of incorporating acquired operations, technology, and employees into our existing business;\n",
       "* the potential for diversion of management's attention from other business concerns;\n",
       "* risks related to the concentration of investment we have in a few companies;\n",
       "* the potential failure to generate, or delays in the generation of, expected revenue or synergies from new investments and acquisitions;\n",
       "* higher-than-expected costs or unanticipated liabilities associated with new investments and acquisitions;\n",
       "* potential loss of our ability to use net operating losses to offset future taxable income;\n",
       "* the potential effect on our brand and customer demand for our products and services;\n",
       "* the potential failure to maintain the value of our brands;\n",
       "* our vulnerability to general adverse economic and industry conditions;\n",
       "* increased competition in our markets and the potential effect on our market share;\n",
       "* potential changes in the market for and demand for our products and services;\n",
       "* the potential effect of tax law changes and changes in tax rates;\n",
       "* potential changes in accounting standards and other legal requirements or environmental and other regulations;\n",
       "* potential changes in interest rates or foreign currency exchange rates;\n",
       "* the potential effect of competition, regulatory changes and other factors in our industry;\n",
       "* potential changes in the relationships between the United States and other countries; and\n",
       "* potential changes in the political environment in the United States and other countries, and their potential effects on our business.</td>\n",
       "      <td id=\"T_b27aa_row0_col1\" class=\"data row0 col1\" >Risks associated with disruptions to ongoing businesses, difficulties in integrating operations and technology, potential loss of key personnel, and challenges in realizing expected benefits and revenue from new investments and acquisitions pose significant threats to the company's stability and success.</td>\n",
       "    </tr>\n",
       "  </tbody>\n",
       "</table>\n"
      ],
      "text/plain": [
       "<pandas.io.formats.style.Styler at 0x7f6c9d258190>"
      ]
     },
     "execution_count": 12,
     "metadata": {},
     "output_type": "execute_result"
    }
   ],
   "source": [
    "# Extracting context, question, and answer into a DataFrame\n",
    "contexts = []\n",
    "summaries = []\n",
    "\n",
    "for item in output:\n",
    "    for i in item.get('output', []):\n",
    "        for response in i.get('response', []):\n",
    "            if any(key not in response for key in ['context', 'summary']):\n",
    "                print(\"Missing context or summary in response:\", response)\n",
    "                continue\n",
    "            contexts.append(response['context'])\n",
    "            summaries.append(response['summary'])\n",
    "\n",
    "# Set display options\n",
    "pd.set_option('display.max_colwidth', None)\n",
    "pd.set_option('display.width', 1000)\n",
    "\n",
    "df = pd.DataFrame({\n",
    "    'Context': contexts,\n",
    "    'Summaries': summaries,\n",
    "})\n",
    "\n",
    "styled_df = df.style.set_properties(**{'text-align': 'left'}).set_table_styles([{\n",
    "    'selector': 'th',\n",
    "    'props': [('text-align', 'left')]\n",
    "}])\n",
    "styled_df"
   ]
  },
  {
   "cell_type": "markdown",
   "id": "028dd7d5",
   "metadata": {},
   "source": [
    "Finally, we can save the output to a csv file."
   ]
  },
  {
   "cell_type": "code",
   "execution_count": 13,
   "id": "72a570e6",
   "metadata": {},
   "outputs": [],
   "source": [
    "output_dir = 'data/output'\n",
    "\n",
    "if not os.path.exists(output_dir):\n",
    "    os.makedirs(output_dir)\n",
    "\n",
    "df.to_csv(f\"{output_dir}/Nike_10k_Summaries.csv\", index=False)"
   ]
  }
 ],
 "metadata": {
  "kernelspec": {
   "display_name": "Python 3 (ipykernel)",
   "language": "python",
   "name": "python3"
  },
  "language_info": {
   "codemirror_mode": {
    "name": "ipython",
    "version": 3
   },
   "file_extension": ".py",
   "mimetype": "text/x-python",
   "name": "python",
   "nbconvert_exporter": "python",
   "pygments_lexer": "ipython3",
   "version": "3.10.13"
  }
 },
 "nbformat": 4,
 "nbformat_minor": 5
}
