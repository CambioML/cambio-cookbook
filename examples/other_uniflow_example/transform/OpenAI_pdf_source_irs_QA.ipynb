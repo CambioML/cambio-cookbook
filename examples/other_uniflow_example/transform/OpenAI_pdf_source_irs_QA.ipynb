{
  "cells": [
    {
      "cell_type": "markdown",
      "metadata": {
        "id": "09836d95"
      },
      "source": [
        "## Build Your Personal Guide:  From Dense PDFs to Accessible Q&A"
      ],
      "id": "09836d95"
    },
    {
      "cell_type": "markdown",
      "metadata": {
        "id": "fabb2b8c"
      },
      "source": [
        "### Overview\n",
        "\n",
        "It's that time of the year again—tax season! Are you finding yourself swamped with piles of tax filing information and feeling a bit overwhelmed? Why not give our AI assistant a try? Simply feed it the tax guide, and voilà, it's ready to answer all your related queries with ease.\n",
        "\n",
        "Today, we will show you how Uniflow turns difficult-to-read PDF documents into a responsive steward that answers any questions you may have."
      ],
      "id": "fabb2b8c"
    },
    {
      "cell_type": "markdown",
      "metadata": {
        "id": "e80ff73b"
      },
      "source": [
        "### Before running the code\n",
        "\n",
        "You will need to uniflow conda environment to run this notebook. You can set up the environment following the [instruction](https://github.com/CambioML/cambio-cookbook/tree/main#installation).\n",
        "\n",
        "For more details, see this [instruction](https://github.com/CambioML/uniflow-llm-based-pdf-extraction-text-cleaning-data-clustering/tree/main?tab=readme-ov-file#huggingfacemodelconfig).\n",
        "\n",
        "Finally, we are storing the IRS dataset in the `data\\raw_input` directory as \"IRS_2023.pdf\". You can download the file from [here](https://www.irs.gov/forms-pubs/guide-to-business-expense-resources).\n",
        "\n",
        "### Update System Path"
      ],
      "id": "e80ff73b"
    },
    {
      "cell_type": "code",
      "execution_count": null,
      "metadata": {
        "id": "b421f857-98a6-4d22-87bf-780f69a552db"
      },
      "outputs": [],
      "source": [
        "%reload_ext autoreload\n",
        "%autoreload 2\n",
        "\n",
        "import sys\n",
        "\n",
        "sys.path.append(\".\")\n",
        "sys.path.append(\"..\")\n",
        "sys.path.append(\"../..\")"
      ],
      "id": "b421f857-98a6-4d22-87bf-780f69a552db"
    },
    {
      "cell_type": "markdown",
      "metadata": {
        "id": "4f6c49db"
      },
      "source": [
        "### Install helper packages\n",
        "\n",
        "If you already have these installed, feel free to skip this step."
      ],
      "id": "4f6c49db"
    },
    {
      "cell_type": "code",
      "execution_count": 38,
      "metadata": {
        "id": "50722cfb-9c66-43b0-b9f4-522567b8dc33"
      },
      "outputs": [],
      "source": [
        "!{sys.executable} -m pip install -q langchain pandas pypdf"
      ],
      "id": "50722cfb-9c66-43b0-b9f4-522567b8dc33"
    },
    {
      "cell_type": "markdown",
      "metadata": {
        "id": "3c6ee181"
      },
      "source": [
        "### Import Dependency"
      ],
      "id": "3c6ee181"
    },
    {
      "cell_type": "code",
      "execution_count": 39,
      "metadata": {
        "id": "3d761bc5-95e7-4f76-bd5b-9efb60fb3df8"
      },
      "outputs": [],
      "source": [
        "import os\n",
        "\n",
        "import pandas as pd\n",
        "\n",
        "from uniflow.flow.client import ExtractClient, TransformClient\n",
        "from uniflow.flow.config import ExtractPDFConfig, TransformOpenAIConfig\n",
        "from uniflow.op.extract.split.constants import MARKDOWN_HEADER_SPLITTER\n",
        "from uniflow.op.model.model_config import OpenAIModelConfig, NougatModelConfig\n",
        "from uniflow.op.prompt import PromptTemplate, Context\n",
        "from uniflow.op.extract.split.constants import PARAGRAPH_SPLITTER"
      ],
      "id": "3d761bc5-95e7-4f76-bd5b-9efb60fb3df8"
    },
    {
      "cell_type": "markdown",
      "metadata": {
        "id": "cc5864c9"
      },
      "source": [
        "### Prepare Input data\n",
        "\n",
        "First, let's set the current directory and input data directory, and load the raw input data."
      ],
      "id": "cc5864c9"
    },
    {
      "cell_type": "code",
      "execution_count": 41,
      "metadata": {
        "id": "8579f23f-2d65-4c8a-981d-dc4f17b51d70"
      },
      "outputs": [],
      "source": [
        "dir_cur = os.getcwd()\n",
        "pdf_file = \"IRS_2023.pdf\"\n",
        "input_file = os.path.join(f\"{dir_cur}\", pdf_file)\n",
        "\n",
        "data = [\n",
        "    {\"filename\": input_file},\n",
        "]"
      ],
      "id": "8579f23f-2d65-4c8a-981d-dc4f17b51d70"
    },
    {
      "cell_type": "markdown",
      "metadata": {
        "id": "20c14e74"
      },
      "source": [
        "### Extract PDF using Nougat\n",
        "\n",
        "For this example, we'll run the `ExtractPDF` flow to extract the text from the IRS pdf. This uses the [Nougat](https://pypi.org/project/nougat-ocr/0.1.17/) PDF parser.\n",
        "\n",
        "#### Create extract_config"
      ],
      "id": "20c14e74"
    },
    {
      "cell_type": "code",
      "execution_count": 42,
      "metadata": {
        "id": "24ad4340-5fbc-4cdc-b701-1b081c2580b4"
      },
      "outputs": [],
      "source": [
        "extract_config = ExtractPDFConfig(\n",
        "    model_config=NougatModelConfig(\n",
        "        batch_size = 4 # When batch_size>1, nougat will run on CUDA, otherwise it will run on CPU\n",
        "    ),\n",
        "    splitter=PARAGRAPH_SPLITTER\n",
        ")"
      ],
      "id": "24ad4340-5fbc-4cdc-b701-1b081c2580b4"
    },
    {
      "cell_type": "markdown",
      "metadata": {
        "id": "580319a3"
      },
      "source": [
        "#### Create extract_client"
      ],
      "id": "580319a3"
    },
    {
      "cell_type": "code",
      "execution_count": 44,
      "metadata": {
        "id": "7bf89c8e-aaed-416c-8c53-6b60daa85c9d"
      },
      "outputs": [],
      "source": [
        "extract_client = ExtractClient(extract_config)"
      ],
      "id": "7bf89c8e-aaed-416c-8c53-6b60daa85c9d"
    },
    {
      "cell_type": "markdown",
      "metadata": {
        "id": "ca911ee0"
      },
      "source": [
        "#### Run extract_client"
      ],
      "id": "ca911ee0"
    },
    {
      "cell_type": "code",
      "execution_count": 45,
      "metadata": {
        "colab": {
          "base_uri": "https://localhost:8080/",
          "height": 49,
          "referenced_widgets": [
            "30079c038c7e472aa7cba46162d8ad85",
            "c9b5419cc00c43eda81c569a6f531621",
            "280de98e2e9a4ea19f9e5f24cdc7b16c",
            "f3190cae7d5a4110afdcb6b5565c06d5",
            "bff95c3d837240f4bef1b5d099508382",
            "676c31f5f3b141d0b3cfe7b9cfaab2eb",
            "fa5c8b6141f445839086e999cf6b61ef",
            "85022e8b736b444b926691ff22904cbf",
            "0a7d4296a04e40c9aace9a7c3842986c",
            "d694ecd95c2b4cf8a21ce48645ff31f4",
            "a956fdaa244a43e3ad008b6c552184f3"
          ]
        },
        "id": "a8e83bda-c298-4fe7-8168-d8f3eaf838a7",
        "outputId": "89c3dec8-f5c6-4cdf-e51f-0b7f5a142d6e"
      },
      "outputs": [
        {
          "output_type": "display_data",
          "data": {
            "text/plain": [
              "  0%|          | 0/1 [00:00<?, ?it/s]"
            ],
            "application/vnd.jupyter.widget-view+json": {
              "version_major": 2,
              "version_minor": 0,
              "model_id": "30079c038c7e472aa7cba46162d8ad85"
            }
          },
          "metadata": {}
        }
      ],
      "source": [
        "extract_output = extract_client.run(data)"
      ],
      "id": "a8e83bda-c298-4fe7-8168-d8f3eaf838a7"
    },
    {
      "cell_type": "markdown",
      "metadata": {
        "id": "eb07f5a1"
      },
      "source": [
        "### Generating Questions"
      ],
      "id": "eb07f5a1"
    },
    {
      "cell_type": "markdown",
      "metadata": {
        "id": "e2367553"
      },
      "source": [
        "#### Prepare sample prompts\n",
        "\n",
        "First, we need to demonstrate sample prompts for LLM. We do this by giving a sample instruction to the PromptTemplate class"
      ],
      "id": "e2367553"
    },
    {
      "cell_type": "code",
      "execution_count": 46,
      "metadata": {
        "id": "2258e0f2-aba3-42e3-9775-0e3f71637501"
      },
      "outputs": [],
      "source": [
        "sample_instruction = \"\"\"Assume you are an expert on tax, please generate as many question as possible based on the context.\n",
        "Make sure those questions can cover any question people can think of by reading the context.\"\"\"\n",
        "\n",
        "guided_prompt = PromptTemplate(instruction=sample_instruction)"
      ],
      "id": "2258e0f2-aba3-42e3-9775-0e3f71637501"
    },
    {
      "cell_type": "code",
      "execution_count": 47,
      "metadata": {
        "id": "ad1590da-50e2-4f26-8195-f31c0c7e7e99",
        "colab": {
          "base_uri": "https://localhost:8080/"
        },
        "outputId": "3e4da21f-4992-42f6-8487-4330d7d6a5ca"
      },
      "outputs": [
        {
          "output_type": "stream",
          "name": "stdout",
          "text": [
            "sample size of processed input data:  1554\n"
          ]
        },
        {
          "output_type": "execute_result",
          "data": {
            "text/plain": [
              "[Context(context='**Publication 535**'),\n",
              " Context(context='**Publication 535**')]"
            ]
          },
          "metadata": {},
          "execution_count": 47
        }
      ],
      "source": [
        "input_context = [Context(context=ctx) for ctx in extract_output[0][\"output\"][0][\"text\"]]\n",
        "\n",
        "print(\"sample size of processed input data: \", len(input_context))\n",
        "\n",
        "input_context[:2]"
      ],
      "id": "ad1590da-50e2-4f26-8195-f31c0c7e7e99"
    },
    {
      "cell_type": "markdown",
      "metadata": {
        "id": "9df365aa"
      },
      "source": [
        "#### Use LLM to generate data\n",
        "\n",
        "In this example, we will use the `TransformQAHuggingFaceJsonFormatConfig`'s LLM to generate questions and answers. Let's import the config and client of this model.\n",
        "\n",
        "Here, we pass in our `guided_prompt` to the `TransformQAHuggingFaceJsonFormatConfig` to use our customized instructions, instead of the uniflow default ones.\n",
        "\n",
        "We also want to get the response in the json format instead of the text default, so we set the `response_format` to `json_object`.\n",
        "\n",
        "You can update the `batch_size` based on the size of the data."
      ],
      "id": "9df365aa"
    },
    {
      "cell_type": "code",
      "execution_count": 48,
      "metadata": {
        "id": "a12e45e7"
      },
      "outputs": [],
      "source": [
        "question_config = TransformOpenAIConfig(\n",
        "    prompt_template=guided_prompt,\n",
        "    model_config=OpenAIModelConfig(\n",
        "        response_format={\"type\": \"json_object\"},\n",
        "    ),\n",
        ")\n",
        "question_client = TransformClient(question_config)"
      ],
      "id": "a12e45e7"
    },
    {
      "cell_type": "markdown",
      "metadata": {
        "id": "69ada849"
      },
      "source": [
        "Now we call the `run` method on the `question_client` object to execute the question generation operation on the data shown above."
      ],
      "id": "69ada849"
    },
    {
      "cell_type": "code",
      "execution_count": 49,
      "metadata": {
        "colab": {
          "base_uri": "https://localhost:8080/",
          "height": 49,
          "referenced_widgets": [
            "264f0fb18cf84ab58808a38592943fbe",
            "6ffbb8e1d192422e9957f118cfc89039",
            "ab507cd27c40415fb0af429a7ac154a7",
            "c7fa0a62d36d474dac64d2ff260e47a0",
            "14601dfe91fc44599d967f921b294ac8",
            "ea060c0910a94f7da93353b767614189",
            "a9c64d068ef8433eb456abc2bdb29a0a",
            "9301df1b907f435aafe93df7c26c69f1",
            "86e79009cfea4ef79ab49bc8f9733141",
            "2d465656c2904258a99dce0444e6ebec",
            "d9a160610d2e4c4eacaff1e694a60814"
          ]
        },
        "id": "e681f2e7",
        "outputId": "32dd4289-9348-4860-b4a7-ce0162833ab0"
      },
      "outputs": [
        {
          "data": {
            "application/vnd.jupyter.widget-view+json": {
              "model_id": "264f0fb18cf84ab58808a38592943fbe",
              "version_major": 2,
              "version_minor": 0
            },
            "text/plain": [
              "  0%|          | 0/1554 [00:00<?, ?it/s]"
            ]
          },
          "metadata": {},
          "output_type": "display_data"
        }
      ],
      "source": [
        "output_question = question_client.run(input_context)"
      ],
      "id": "e681f2e7"
    },
    {
      "cell_type": "markdown",
      "metadata": {
        "id": "789afb9d"
      },
      "source": [
        "#### Process the output\n",
        "\n",
        "Let's take a look of the generated output. We need to do a little postprocessing on the raw output."
      ],
      "id": "789afb9d"
    },
    {
      "cell_type": "code",
      "execution_count": 68,
      "metadata": {
        "colab": {
          "base_uri": "https://localhost:8080/",
          "height": 423
        },
        "id": "XwzgoWFBVcHe",
        "outputId": "a081900b-76b6-4f61-de63-1d3acd39edcf"
      },
      "outputs": [
        {
          "output_type": "execute_result",
          "data": {
            "text/plain": [
              "                             Context                                                              Question\n",
              "0      context='**Publication 535**'                                              What is Publication 535?\n",
              "1      context='**Publication 535**'                           What topics are covered in Publication 535?\n",
              "2      context='**Publication 535**'           Is Publication 535 related to individual or business taxes?\n",
              "3      context='**Publication 535**'                                     Where can I find Publication 535?\n",
              "4      context='**Publication 535**'                  Is Publication 535 available in different languages?\n",
              "...                              ...                                                                   ...\n",
              "15813       context='**Cry323N 53**'          Are there any tax planning strategies related to Cry323N 53?\n",
              "15814       context='**Cry323N 53**'   What are the potential tax consequences of investing in Cry323N 53?\n",
              "15815       context='**Cry323N 53**'     Are there any tax incentives or exemptions related to Cry323N 53?\n",
              "15816       context='**Cry323N 53**'         What is the tax treatment of gains or losses from Cry323N 53?\n",
              "15817       context='**Cry323N 53**'  Are there any tax implications for receiving income from Cry323N 53?\n",
              "\n",
              "[15818 rows x 2 columns]"
            ],
            "text/html": [
              "\n",
              "  <div id=\"df-8d674907-2d16-45a0-9fc8-00292d5bb7e9\" class=\"colab-df-container\">\n",
              "    <div>\n",
              "<style scoped>\n",
              "    .dataframe tbody tr th:only-of-type {\n",
              "        vertical-align: middle;\n",
              "    }\n",
              "\n",
              "    .dataframe tbody tr th {\n",
              "        vertical-align: top;\n",
              "    }\n",
              "\n",
              "    .dataframe thead th {\n",
              "        text-align: right;\n",
              "    }\n",
              "</style>\n",
              "<table border=\"1\" class=\"dataframe\">\n",
              "  <thead>\n",
              "    <tr style=\"text-align: right;\">\n",
              "      <th></th>\n",
              "      <th>Context</th>\n",
              "      <th>Question</th>\n",
              "    </tr>\n",
              "  </thead>\n",
              "  <tbody>\n",
              "    <tr>\n",
              "      <th>0</th>\n",
              "      <td>context='**Publication 535**'</td>\n",
              "      <td>What is Publication 535?</td>\n",
              "    </tr>\n",
              "    <tr>\n",
              "      <th>1</th>\n",
              "      <td>context='**Publication 535**'</td>\n",
              "      <td>What topics are covered in Publication 535?</td>\n",
              "    </tr>\n",
              "    <tr>\n",
              "      <th>2</th>\n",
              "      <td>context='**Publication 535**'</td>\n",
              "      <td>Is Publication 535 related to individual or business taxes?</td>\n",
              "    </tr>\n",
              "    <tr>\n",
              "      <th>3</th>\n",
              "      <td>context='**Publication 535**'</td>\n",
              "      <td>Where can I find Publication 535?</td>\n",
              "    </tr>\n",
              "    <tr>\n",
              "      <th>4</th>\n",
              "      <td>context='**Publication 535**'</td>\n",
              "      <td>Is Publication 535 available in different languages?</td>\n",
              "    </tr>\n",
              "    <tr>\n",
              "      <th>...</th>\n",
              "      <td>...</td>\n",
              "      <td>...</td>\n",
              "    </tr>\n",
              "    <tr>\n",
              "      <th>15813</th>\n",
              "      <td>context='**Cry323N 53**'</td>\n",
              "      <td>Are there any tax planning strategies related to Cry323N 53?</td>\n",
              "    </tr>\n",
              "    <tr>\n",
              "      <th>15814</th>\n",
              "      <td>context='**Cry323N 53**'</td>\n",
              "      <td>What are the potential tax consequences of investing in Cry323N 53?</td>\n",
              "    </tr>\n",
              "    <tr>\n",
              "      <th>15815</th>\n",
              "      <td>context='**Cry323N 53**'</td>\n",
              "      <td>Are there any tax incentives or exemptions related to Cry323N 53?</td>\n",
              "    </tr>\n",
              "    <tr>\n",
              "      <th>15816</th>\n",
              "      <td>context='**Cry323N 53**'</td>\n",
              "      <td>What is the tax treatment of gains or losses from Cry323N 53?</td>\n",
              "    </tr>\n",
              "    <tr>\n",
              "      <th>15817</th>\n",
              "      <td>context='**Cry323N 53**'</td>\n",
              "      <td>Are there any tax implications for receiving income from Cry323N 53?</td>\n",
              "    </tr>\n",
              "  </tbody>\n",
              "</table>\n",
              "<p>15818 rows × 2 columns</p>\n",
              "</div>\n",
              "    <div class=\"colab-df-buttons\">\n",
              "\n",
              "  <div class=\"colab-df-container\">\n",
              "    <button class=\"colab-df-convert\" onclick=\"convertToInteractive('df-8d674907-2d16-45a0-9fc8-00292d5bb7e9')\"\n",
              "            title=\"Convert this dataframe to an interactive table.\"\n",
              "            style=\"display:none;\">\n",
              "\n",
              "  <svg xmlns=\"http://www.w3.org/2000/svg\" height=\"24px\" viewBox=\"0 -960 960 960\">\n",
              "    <path d=\"M120-120v-720h720v720H120Zm60-500h600v-160H180v160Zm220 220h160v-160H400v160Zm0 220h160v-160H400v160ZM180-400h160v-160H180v160Zm440 0h160v-160H620v160ZM180-180h160v-160H180v160Zm440 0h160v-160H620v160Z\"/>\n",
              "  </svg>\n",
              "    </button>\n",
              "\n",
              "  <style>\n",
              "    .colab-df-container {\n",
              "      display:flex;\n",
              "      gap: 12px;\n",
              "    }\n",
              "\n",
              "    .colab-df-convert {\n",
              "      background-color: #E8F0FE;\n",
              "      border: none;\n",
              "      border-radius: 50%;\n",
              "      cursor: pointer;\n",
              "      display: none;\n",
              "      fill: #1967D2;\n",
              "      height: 32px;\n",
              "      padding: 0 0 0 0;\n",
              "      width: 32px;\n",
              "    }\n",
              "\n",
              "    .colab-df-convert:hover {\n",
              "      background-color: #E2EBFA;\n",
              "      box-shadow: 0px 1px 2px rgba(60, 64, 67, 0.3), 0px 1px 3px 1px rgba(60, 64, 67, 0.15);\n",
              "      fill: #174EA6;\n",
              "    }\n",
              "\n",
              "    .colab-df-buttons div {\n",
              "      margin-bottom: 4px;\n",
              "    }\n",
              "\n",
              "    [theme=dark] .colab-df-convert {\n",
              "      background-color: #3B4455;\n",
              "      fill: #D2E3FC;\n",
              "    }\n",
              "\n",
              "    [theme=dark] .colab-df-convert:hover {\n",
              "      background-color: #434B5C;\n",
              "      box-shadow: 0px 1px 3px 1px rgba(0, 0, 0, 0.15);\n",
              "      filter: drop-shadow(0px 1px 2px rgba(0, 0, 0, 0.3));\n",
              "      fill: #FFFFFF;\n",
              "    }\n",
              "  </style>\n",
              "\n",
              "    <script>\n",
              "      const buttonEl =\n",
              "        document.querySelector('#df-8d674907-2d16-45a0-9fc8-00292d5bb7e9 button.colab-df-convert');\n",
              "      buttonEl.style.display =\n",
              "        google.colab.kernel.accessAllowed ? 'block' : 'none';\n",
              "\n",
              "      async function convertToInteractive(key) {\n",
              "        const element = document.querySelector('#df-8d674907-2d16-45a0-9fc8-00292d5bb7e9');\n",
              "        const dataTable =\n",
              "          await google.colab.kernel.invokeFunction('convertToInteractive',\n",
              "                                                    [key], {});\n",
              "        if (!dataTable) return;\n",
              "\n",
              "        const docLinkHtml = 'Like what you see? Visit the ' +\n",
              "          '<a target=\"_blank\" href=https://colab.research.google.com/notebooks/data_table.ipynb>data table notebook</a>'\n",
              "          + ' to learn more about interactive tables.';\n",
              "        element.innerHTML = '';\n",
              "        dataTable['output_type'] = 'display_data';\n",
              "        await google.colab.output.renderOutput(dataTable, element);\n",
              "        const docLink = document.createElement('div');\n",
              "        docLink.innerHTML = docLinkHtml;\n",
              "        element.appendChild(docLink);\n",
              "      }\n",
              "    </script>\n",
              "  </div>\n",
              "\n",
              "\n",
              "<div id=\"df-939b82cf-a0ea-4522-99ac-91a429a7d350\">\n",
              "  <button class=\"colab-df-quickchart\" onclick=\"quickchart('df-939b82cf-a0ea-4522-99ac-91a429a7d350')\"\n",
              "            title=\"Suggest charts\"\n",
              "            style=\"display:none;\">\n",
              "\n",
              "<svg xmlns=\"http://www.w3.org/2000/svg\" height=\"24px\"viewBox=\"0 0 24 24\"\n",
              "     width=\"24px\">\n",
              "    <g>\n",
              "        <path d=\"M19 3H5c-1.1 0-2 .9-2 2v14c0 1.1.9 2 2 2h14c1.1 0 2-.9 2-2V5c0-1.1-.9-2-2-2zM9 17H7v-7h2v7zm4 0h-2V7h2v10zm4 0h-2v-4h2v4z\"/>\n",
              "    </g>\n",
              "</svg>\n",
              "  </button>\n",
              "\n",
              "<style>\n",
              "  .colab-df-quickchart {\n",
              "      --bg-color: #E8F0FE;\n",
              "      --fill-color: #1967D2;\n",
              "      --hover-bg-color: #E2EBFA;\n",
              "      --hover-fill-color: #174EA6;\n",
              "      --disabled-fill-color: #AAA;\n",
              "      --disabled-bg-color: #DDD;\n",
              "  }\n",
              "\n",
              "  [theme=dark] .colab-df-quickchart {\n",
              "      --bg-color: #3B4455;\n",
              "      --fill-color: #D2E3FC;\n",
              "      --hover-bg-color: #434B5C;\n",
              "      --hover-fill-color: #FFFFFF;\n",
              "      --disabled-bg-color: #3B4455;\n",
              "      --disabled-fill-color: #666;\n",
              "  }\n",
              "\n",
              "  .colab-df-quickchart {\n",
              "    background-color: var(--bg-color);\n",
              "    border: none;\n",
              "    border-radius: 50%;\n",
              "    cursor: pointer;\n",
              "    display: none;\n",
              "    fill: var(--fill-color);\n",
              "    height: 32px;\n",
              "    padding: 0;\n",
              "    width: 32px;\n",
              "  }\n",
              "\n",
              "  .colab-df-quickchart:hover {\n",
              "    background-color: var(--hover-bg-color);\n",
              "    box-shadow: 0 1px 2px rgba(60, 64, 67, 0.3), 0 1px 3px 1px rgba(60, 64, 67, 0.15);\n",
              "    fill: var(--button-hover-fill-color);\n",
              "  }\n",
              "\n",
              "  .colab-df-quickchart-complete:disabled,\n",
              "  .colab-df-quickchart-complete:disabled:hover {\n",
              "    background-color: var(--disabled-bg-color);\n",
              "    fill: var(--disabled-fill-color);\n",
              "    box-shadow: none;\n",
              "  }\n",
              "\n",
              "  .colab-df-spinner {\n",
              "    border: 2px solid var(--fill-color);\n",
              "    border-color: transparent;\n",
              "    border-bottom-color: var(--fill-color);\n",
              "    animation:\n",
              "      spin 1s steps(1) infinite;\n",
              "  }\n",
              "\n",
              "  @keyframes spin {\n",
              "    0% {\n",
              "      border-color: transparent;\n",
              "      border-bottom-color: var(--fill-color);\n",
              "      border-left-color: var(--fill-color);\n",
              "    }\n",
              "    20% {\n",
              "      border-color: transparent;\n",
              "      border-left-color: var(--fill-color);\n",
              "      border-top-color: var(--fill-color);\n",
              "    }\n",
              "    30% {\n",
              "      border-color: transparent;\n",
              "      border-left-color: var(--fill-color);\n",
              "      border-top-color: var(--fill-color);\n",
              "      border-right-color: var(--fill-color);\n",
              "    }\n",
              "    40% {\n",
              "      border-color: transparent;\n",
              "      border-right-color: var(--fill-color);\n",
              "      border-top-color: var(--fill-color);\n",
              "    }\n",
              "    60% {\n",
              "      border-color: transparent;\n",
              "      border-right-color: var(--fill-color);\n",
              "    }\n",
              "    80% {\n",
              "      border-color: transparent;\n",
              "      border-right-color: var(--fill-color);\n",
              "      border-bottom-color: var(--fill-color);\n",
              "    }\n",
              "    90% {\n",
              "      border-color: transparent;\n",
              "      border-bottom-color: var(--fill-color);\n",
              "    }\n",
              "  }\n",
              "</style>\n",
              "\n",
              "  <script>\n",
              "    async function quickchart(key) {\n",
              "      const quickchartButtonEl =\n",
              "        document.querySelector('#' + key + ' button');\n",
              "      quickchartButtonEl.disabled = true;  // To prevent multiple clicks.\n",
              "      quickchartButtonEl.classList.add('colab-df-spinner');\n",
              "      try {\n",
              "        const charts = await google.colab.kernel.invokeFunction(\n",
              "            'suggestCharts', [key], {});\n",
              "      } catch (error) {\n",
              "        console.error('Error during call to suggestCharts:', error);\n",
              "      }\n",
              "      quickchartButtonEl.classList.remove('colab-df-spinner');\n",
              "      quickchartButtonEl.classList.add('colab-df-quickchart-complete');\n",
              "    }\n",
              "    (() => {\n",
              "      let quickchartButtonEl =\n",
              "        document.querySelector('#df-939b82cf-a0ea-4522-99ac-91a429a7d350 button');\n",
              "      quickchartButtonEl.style.display =\n",
              "        google.colab.kernel.accessAllowed ? 'block' : 'none';\n",
              "    })();\n",
              "  </script>\n",
              "</div>\n",
              "\n",
              "  <div id=\"id_bcee162a-14f9-4bb7-a338-2bfce7d2e54a\">\n",
              "    <style>\n",
              "      .colab-df-generate {\n",
              "        background-color: #E8F0FE;\n",
              "        border: none;\n",
              "        border-radius: 50%;\n",
              "        cursor: pointer;\n",
              "        display: none;\n",
              "        fill: #1967D2;\n",
              "        height: 32px;\n",
              "        padding: 0 0 0 0;\n",
              "        width: 32px;\n",
              "      }\n",
              "\n",
              "      .colab-df-generate:hover {\n",
              "        background-color: #E2EBFA;\n",
              "        box-shadow: 0px 1px 2px rgba(60, 64, 67, 0.3), 0px 1px 3px 1px rgba(60, 64, 67, 0.15);\n",
              "        fill: #174EA6;\n",
              "      }\n",
              "\n",
              "      [theme=dark] .colab-df-generate {\n",
              "        background-color: #3B4455;\n",
              "        fill: #D2E3FC;\n",
              "      }\n",
              "\n",
              "      [theme=dark] .colab-df-generate:hover {\n",
              "        background-color: #434B5C;\n",
              "        box-shadow: 0px 1px 3px 1px rgba(0, 0, 0, 0.15);\n",
              "        filter: drop-shadow(0px 1px 2px rgba(0, 0, 0, 0.3));\n",
              "        fill: #FFFFFF;\n",
              "      }\n",
              "    </style>\n",
              "    <button class=\"colab-df-generate\" onclick=\"generateWithVariable('df')\"\n",
              "            title=\"Generate code using this dataframe.\"\n",
              "            style=\"display:none;\">\n",
              "\n",
              "  <svg xmlns=\"http://www.w3.org/2000/svg\" height=\"24px\"viewBox=\"0 0 24 24\"\n",
              "       width=\"24px\">\n",
              "    <path d=\"M7,19H8.4L18.45,9,17,7.55,7,17.6ZM5,21V16.75L18.45,3.32a2,2,0,0,1,2.83,0l1.4,1.43a1.91,1.91,0,0,1,.58,1.4,1.91,1.91,0,0,1-.58,1.4L9.25,21ZM18.45,9,17,7.55Zm-12,3A5.31,5.31,0,0,0,4.9,8.1,5.31,5.31,0,0,0,1,6.5,5.31,5.31,0,0,0,4.9,4.9,5.31,5.31,0,0,0,6.5,1,5.31,5.31,0,0,0,8.1,4.9,5.31,5.31,0,0,0,12,6.5,5.46,5.46,0,0,0,6.5,12Z\"/>\n",
              "  </svg>\n",
              "    </button>\n",
              "    <script>\n",
              "      (() => {\n",
              "      const buttonEl =\n",
              "        document.querySelector('#id_bcee162a-14f9-4bb7-a338-2bfce7d2e54a button.colab-df-generate');\n",
              "      buttonEl.style.display =\n",
              "        google.colab.kernel.accessAllowed ? 'block' : 'none';\n",
              "\n",
              "      buttonEl.onclick = () => {\n",
              "        google.colab.notebook.generateWithVariable('df');\n",
              "      }\n",
              "      })();\n",
              "    </script>\n",
              "  </div>\n",
              "\n",
              "    </div>\n",
              "  </div>\n"
            ],
            "application/vnd.google.colaboratory.intrinsic+json": {
              "type": "dataframe",
              "variable_name": "df",
              "summary": "{\n  \"name\": \"df\",\n  \"rows\": 15818,\n  \"fields\": [\n    {\n      \"column\": \"Context\",\n      \"properties\": {\n        \"dtype\": \"object\",\n        \"semantic_type\": \"\",\n        \"description\": \"\"\n      }\n    },\n    {\n      \"column\": \"Question\",\n      \"properties\": {\n        \"dtype\": \"string\",\n        \"num_unique_values\": 15104,\n        \"samples\": [\n          \"Is there additional guidance on the amortization of research or experimental costs available in the tax code or regulations?\",\n          \"What are the specific costs that qualify for the research credit?\",\n          \"What are the tax obligations for publications?\"\n        ],\n        \"semantic_type\": \"\",\n        \"description\": \"\"\n      }\n    }\n  ]\n}"
            }
          },
          "metadata": {},
          "execution_count": 68
        }
      ],
      "source": [
        "contexts = []\n",
        "questions_list = []\n",
        "\n",
        "for index, output in enumerate(output_question):\n",
        "    current_context = input_context[index]\n",
        "    for item in output.get(\"output\", []):\n",
        "        for response in item.get(\"response\", []):\n",
        "            for question in response.get(\"questions\", []):\n",
        "                contexts.append(current_context)\n",
        "                questions_list.append(question)\n",
        "\n",
        "df = pd.DataFrame({\n",
        "    'Context': contexts,\n",
        "    'Question': questions_list\n",
        "})\n",
        "df = df[df[\"Question\"].str.strip().astype(bool)]\n",
        "\n",
        "pd.set_option(\"display.max_colwidth\", 1000)\n",
        "pd.set_option(\"display.width\", 1000)\n",
        "\n",
        "df"
      ],
      "id": "XwzgoWFBVcHe"
    },
    {
      "cell_type": "markdown",
      "metadata": {
        "id": "ad8de3a0"
      },
      "source": [
        "If you want to save the output and do the rest of the generation later, you can save and retrieve it here."
      ],
      "id": "ad8de3a0"
    },
    {
      "cell_type": "code",
      "execution_count": null,
      "metadata": {
        "id": "9743b9b0"
      },
      "outputs": [],
      "source": [
        "df.to_pickle('my_dataframe.pkl')"
      ],
      "id": "9743b9b0"
    },
    {
      "cell_type": "markdown",
      "metadata": {
        "id": "9f26d56a"
      },
      "source": [
        "### Generating Answers"
      ],
      "id": "9f26d56a"
    },
    {
      "cell_type": "markdown",
      "metadata": {
        "id": "6b4a8f50"
      },
      "source": [
        "#### Prepare sample prompts\n",
        "\n",
        "We need to create the prompt and instruction for answer generation."
      ],
      "id": "6b4a8f50"
    },
    {
      "cell_type": "code",
      "execution_count": 63,
      "metadata": {
        "id": "b5bc3bef",
        "colab": {
          "base_uri": "https://localhost:8080/"
        },
        "outputId": "d6d8052e-d25a-46a0-9bfb-866d02f47009"
      },
      "outputs": [
        {
          "output_type": "stream",
          "name": "stdout",
          "text": [
            "answer_instruction:\n",
            "\n",
            "Based on the context provided, generate an answer that directly addresses the question. Start your response with the question number followed by a period and a space. For example, if the question is number 1, begin your answer with '1. ' followed by the response.\n",
            " \n",
            "\n"
          ]
        }
      ],
      "source": [
        "answer_instruction = \"\"\"\n",
        "Based on the context provided, generate an answer that directly addresses the question. Start your response with the question number followed by a period and a space. For example, if the question is number 1, begin your answer with '1. ' followed by the response.\n",
        "\"\"\"\n",
        "\n",
        "\n",
        "answer_prompt = PromptTemplate(instruction=answer_instruction)\n",
        "\n",
        "print(\"answer_instruction:\")\n",
        "print(answer_instruction, \"\\n\")"
      ],
      "id": "b5bc3bef"
    },
    {
      "cell_type": "markdown",
      "metadata": {
        "id": "c4e60c4c"
      },
      "source": [
        "#### TransformConfig for answer"
      ],
      "id": "c4e60c4c"
    },
    {
      "cell_type": "code",
      "execution_count": 65,
      "metadata": {
        "id": "6d1a03c1"
      },
      "outputs": [],
      "source": [
        "answer_config = TransformOpenAIConfig(\n",
        "    prompt_template=answer_prompt,\n",
        "    model_config=OpenAIModelConfig(\n",
        "        response_format={\"type\": \"json_object\"},\n",
        "    ),\n",
        ")\n",
        "answer_client = TransformClient(answer_config)"
      ],
      "id": "6d1a03c1"
    },
    {
      "cell_type": "markdown",
      "metadata": {
        "id": "17c6a463"
      },
      "source": [
        "#### Format data to feed into `answer_client`"
      ],
      "id": "17c6a463"
    },
    {
      "cell_type": "code",
      "execution_count": 66,
      "metadata": {
        "id": "fe113e3f",
        "colab": {
          "base_uri": "https://localhost:8080/"
        },
        "outputId": "9f12818d-b9df-4a89-cc49-18c43ec10f9d"
      },
      "outputs": [
        {
          "output_type": "stream",
          "name": "stdout",
          "text": [
            "sample size of processed input data:  15818\n"
          ]
        },
        {
          "output_type": "execute_result",
          "data": {
            "text/plain": [
              "[Context(context=Context(context='**Publication 535**'), question='What is Publication 535?'),\n",
              " Context(context=Context(context='**Publication 535**'), question='What topics are covered in Publication 535?')]"
            ]
          },
          "metadata": {},
          "execution_count": 66
        }
      ],
      "source": [
        "input_question = [\n",
        "    Context(\n",
        "        context=row[\"Context\"],\n",
        "        question=row[\"Question\"],\n",
        "    )\n",
        "    for index, row in df.iterrows()\n",
        "]\n",
        "\n",
        "print(\"sample size of processed input data: \", len(input_question))\n",
        "\n",
        "input_question[:2]"
      ],
      "id": "fe113e3f"
    },
    {
      "cell_type": "markdown",
      "metadata": {
        "id": "6b20d760"
      },
      "source": [
        "#### `run` the `answer_client`"
      ],
      "id": "6b20d760"
    },
    {
      "cell_type": "code",
      "execution_count": 70,
      "metadata": {
        "id": "ed4b7db7"
      },
      "outputs": [],
      "source": [
        "output_answer = answer_client.run(input_question)"
      ],
      "id": "ed4b7db7"
    },
    {
      "cell_type": "code",
      "execution_count": null,
      "metadata": {
        "id": "315ac323"
      },
      "outputs": [],
      "source": [
        "#### Process the output"
      ],
      "id": "315ac323"
    },
    {
      "cell_type": "code",
      "execution_count": null,
      "metadata": {
        "id": "9f31dd21"
      },
      "outputs": [],
      "source": [
        "contexts = []\n",
        "questions = []\n",
        "answers = []\n",
        "\n",
        "for output in output_answer:\n",
        "    for i in output.get(\"output\", []):\n",
        "        for response in i.get(\"response\", []):\n",
        "            parts = response.split(\"\\n\")\n",
        "            response_dict = {}\n",
        "            last_key = None\n",
        "\n",
        "            for i, part in enumerate(parts):\n",
        "                if not part or len(part) == 0:\n",
        "                    continue\n",
        "                if \":\" in part:\n",
        "                    key, value = part.split(\":\", 1)\n",
        "                    key, value = key.strip(), value.strip()\n",
        "                    if key not in response_dict:\n",
        "                        response_dict[key] = value\n",
        "                    else:\n",
        "                        print(\"duplicate values\")\n",
        "                    last_key = key\n",
        "                else:\n",
        "                    response_dict[last_key] += \" \" + part\n",
        "\n",
        "            if any(\n",
        "                key not in response_dict\n",
        "                for key in [\"instruction\", \"context\", \"question\", \"answer\"]\n",
        "            ):\n",
        "                continue\n",
        "\n",
        "            contexts.append(response_dict[\"context\"])\n",
        "            questions.append(response_dict[\"question\"])\n",
        "            answers.append(response_dict[\"answer\"])"
      ],
      "id": "9f31dd21"
    },
    {
      "cell_type": "code",
      "execution_count": null,
      "metadata": {
        "id": "271fe8a2"
      },
      "outputs": [],
      "source": [
        "pd.set_option(\"display.max_colwidth\", 1000)\n",
        "pd.set_option(\"display.width\", 100)\n",
        "\n",
        "print(len(contexts))\n",
        "print(len(questions))\n",
        "print(len(answers))\n",
        "\n",
        "df = pd.DataFrame({\"Context\": contexts, \"Question\": questions, \"Answer\": answers})"
      ],
      "id": "271fe8a2"
    },
    {
      "cell_type": "code",
      "execution_count": null,
      "metadata": {
        "id": "978d5493"
      },
      "outputs": [],
      "source": [
        "df"
      ],
      "id": "978d5493"
    },
    {
      "cell_type": "code",
      "execution_count": null,
      "metadata": {
        "id": "c0925ee5"
      },
      "outputs": [],
      "source": [
        "df.to_csv(\"output.csv\", index=False)"
      ],
      "id": "c0925ee5"
    },
    {
      "cell_type": "code",
      "execution_count": null,
      "metadata": {
        "id": "764003f0"
      },
      "outputs": [],
      "source": [],
      "id": "764003f0"
    }
  ],
  "metadata": {
    "accelerator": "GPU",
    "colab": {
      "gpuType": "T4",
      "provenance": []
    },
    "kernelspec": {
      "display_name": "uniflow",
      "language": "python",
      "name": "uniflow"
    },
    "language_info": {
      "codemirror_mode": {
        "name": "ipython",
        "version": 3
      },
      "file_extension": ".py",
      "mimetype": "text/x-python",
      "name": "python",
      "nbconvert_exporter": "python",
      "pygments_lexer": "ipython3",
      "version": "3.10.13"
    },
    "toc": {
      "base_numbering": 1,
      "nav_menu": {},
      "number_sections": true,
      "sideBar": true,
      "skip_h1_title": false,
      "title_cell": "Table of Contents",
      "title_sidebar": "Contents",
      "toc_cell": false,
      "toc_position": {},
      "toc_section_display": true,
      "toc_window_display": false
    },
    "widgets": {
      "application/vnd.jupyter.widget-state+json": {
        "30079c038c7e472aa7cba46162d8ad85": {
          "model_module": "@jupyter-widgets/controls",
          "model_name": "HBoxModel",
          "model_module_version": "1.5.0",
          "state": {
            "_dom_classes": [],
            "_model_module": "@jupyter-widgets/controls",
            "_model_module_version": "1.5.0",
            "_model_name": "HBoxModel",
            "_view_count": null,
            "_view_module": "@jupyter-widgets/controls",
            "_view_module_version": "1.5.0",
            "_view_name": "HBoxView",
            "box_style": "",
            "children": [
              "IPY_MODEL_c9b5419cc00c43eda81c569a6f531621",
              "IPY_MODEL_280de98e2e9a4ea19f9e5f24cdc7b16c",
              "IPY_MODEL_f3190cae7d5a4110afdcb6b5565c06d5"
            ],
            "layout": "IPY_MODEL_bff95c3d837240f4bef1b5d099508382"
          }
        },
        "c9b5419cc00c43eda81c569a6f531621": {
          "model_module": "@jupyter-widgets/controls",
          "model_name": "HTMLModel",
          "model_module_version": "1.5.0",
          "state": {
            "_dom_classes": [],
            "_model_module": "@jupyter-widgets/controls",
            "_model_module_version": "1.5.0",
            "_model_name": "HTMLModel",
            "_view_count": null,
            "_view_module": "@jupyter-widgets/controls",
            "_view_module_version": "1.5.0",
            "_view_name": "HTMLView",
            "description": "",
            "description_tooltip": null,
            "layout": "IPY_MODEL_676c31f5f3b141d0b3cfe7b9cfaab2eb",
            "placeholder": "​",
            "style": "IPY_MODEL_fa5c8b6141f445839086e999cf6b61ef",
            "value": "100%"
          }
        },
        "280de98e2e9a4ea19f9e5f24cdc7b16c": {
          "model_module": "@jupyter-widgets/controls",
          "model_name": "FloatProgressModel",
          "model_module_version": "1.5.0",
          "state": {
            "_dom_classes": [],
            "_model_module": "@jupyter-widgets/controls",
            "_model_module_version": "1.5.0",
            "_model_name": "FloatProgressModel",
            "_view_count": null,
            "_view_module": "@jupyter-widgets/controls",
            "_view_module_version": "1.5.0",
            "_view_name": "ProgressView",
            "bar_style": "success",
            "description": "",
            "description_tooltip": null,
            "layout": "IPY_MODEL_85022e8b736b444b926691ff22904cbf",
            "max": 1,
            "min": 0,
            "orientation": "horizontal",
            "style": "IPY_MODEL_0a7d4296a04e40c9aace9a7c3842986c",
            "value": 1
          }
        },
        "f3190cae7d5a4110afdcb6b5565c06d5": {
          "model_module": "@jupyter-widgets/controls",
          "model_name": "HTMLModel",
          "model_module_version": "1.5.0",
          "state": {
            "_dom_classes": [],
            "_model_module": "@jupyter-widgets/controls",
            "_model_module_version": "1.5.0",
            "_model_name": "HTMLModel",
            "_view_count": null,
            "_view_module": "@jupyter-widgets/controls",
            "_view_module_version": "1.5.0",
            "_view_name": "HTMLView",
            "description": "",
            "description_tooltip": null,
            "layout": "IPY_MODEL_d694ecd95c2b4cf8a21ce48645ff31f4",
            "placeholder": "​",
            "style": "IPY_MODEL_a956fdaa244a43e3ad008b6c552184f3",
            "value": " 1/1 [04:47&lt;00:00, 287.95s/it]"
          }
        },
        "bff95c3d837240f4bef1b5d099508382": {
          "model_module": "@jupyter-widgets/base",
          "model_name": "LayoutModel",
          "model_module_version": "1.2.0",
          "state": {
            "_model_module": "@jupyter-widgets/base",
            "_model_module_version": "1.2.0",
            "_model_name": "LayoutModel",
            "_view_count": null,
            "_view_module": "@jupyter-widgets/base",
            "_view_module_version": "1.2.0",
            "_view_name": "LayoutView",
            "align_content": null,
            "align_items": null,
            "align_self": null,
            "border": null,
            "bottom": null,
            "display": null,
            "flex": null,
            "flex_flow": null,
            "grid_area": null,
            "grid_auto_columns": null,
            "grid_auto_flow": null,
            "grid_auto_rows": null,
            "grid_column": null,
            "grid_gap": null,
            "grid_row": null,
            "grid_template_areas": null,
            "grid_template_columns": null,
            "grid_template_rows": null,
            "height": null,
            "justify_content": null,
            "justify_items": null,
            "left": null,
            "margin": null,
            "max_height": null,
            "max_width": null,
            "min_height": null,
            "min_width": null,
            "object_fit": null,
            "object_position": null,
            "order": null,
            "overflow": null,
            "overflow_x": null,
            "overflow_y": null,
            "padding": null,
            "right": null,
            "top": null,
            "visibility": null,
            "width": null
          }
        },
        "676c31f5f3b141d0b3cfe7b9cfaab2eb": {
          "model_module": "@jupyter-widgets/base",
          "model_name": "LayoutModel",
          "model_module_version": "1.2.0",
          "state": {
            "_model_module": "@jupyter-widgets/base",
            "_model_module_version": "1.2.0",
            "_model_name": "LayoutModel",
            "_view_count": null,
            "_view_module": "@jupyter-widgets/base",
            "_view_module_version": "1.2.0",
            "_view_name": "LayoutView",
            "align_content": null,
            "align_items": null,
            "align_self": null,
            "border": null,
            "bottom": null,
            "display": null,
            "flex": null,
            "flex_flow": null,
            "grid_area": null,
            "grid_auto_columns": null,
            "grid_auto_flow": null,
            "grid_auto_rows": null,
            "grid_column": null,
            "grid_gap": null,
            "grid_row": null,
            "grid_template_areas": null,
            "grid_template_columns": null,
            "grid_template_rows": null,
            "height": null,
            "justify_content": null,
            "justify_items": null,
            "left": null,
            "margin": null,
            "max_height": null,
            "max_width": null,
            "min_height": null,
            "min_width": null,
            "object_fit": null,
            "object_position": null,
            "order": null,
            "overflow": null,
            "overflow_x": null,
            "overflow_y": null,
            "padding": null,
            "right": null,
            "top": null,
            "visibility": null,
            "width": null
          }
        },
        "fa5c8b6141f445839086e999cf6b61ef": {
          "model_module": "@jupyter-widgets/controls",
          "model_name": "DescriptionStyleModel",
          "model_module_version": "1.5.0",
          "state": {
            "_model_module": "@jupyter-widgets/controls",
            "_model_module_version": "1.5.0",
            "_model_name": "DescriptionStyleModel",
            "_view_count": null,
            "_view_module": "@jupyter-widgets/base",
            "_view_module_version": "1.2.0",
            "_view_name": "StyleView",
            "description_width": ""
          }
        },
        "85022e8b736b444b926691ff22904cbf": {
          "model_module": "@jupyter-widgets/base",
          "model_name": "LayoutModel",
          "model_module_version": "1.2.0",
          "state": {
            "_model_module": "@jupyter-widgets/base",
            "_model_module_version": "1.2.0",
            "_model_name": "LayoutModel",
            "_view_count": null,
            "_view_module": "@jupyter-widgets/base",
            "_view_module_version": "1.2.0",
            "_view_name": "LayoutView",
            "align_content": null,
            "align_items": null,
            "align_self": null,
            "border": null,
            "bottom": null,
            "display": null,
            "flex": null,
            "flex_flow": null,
            "grid_area": null,
            "grid_auto_columns": null,
            "grid_auto_flow": null,
            "grid_auto_rows": null,
            "grid_column": null,
            "grid_gap": null,
            "grid_row": null,
            "grid_template_areas": null,
            "grid_template_columns": null,
            "grid_template_rows": null,
            "height": null,
            "justify_content": null,
            "justify_items": null,
            "left": null,
            "margin": null,
            "max_height": null,
            "max_width": null,
            "min_height": null,
            "min_width": null,
            "object_fit": null,
            "object_position": null,
            "order": null,
            "overflow": null,
            "overflow_x": null,
            "overflow_y": null,
            "padding": null,
            "right": null,
            "top": null,
            "visibility": null,
            "width": null
          }
        },
        "0a7d4296a04e40c9aace9a7c3842986c": {
          "model_module": "@jupyter-widgets/controls",
          "model_name": "ProgressStyleModel",
          "model_module_version": "1.5.0",
          "state": {
            "_model_module": "@jupyter-widgets/controls",
            "_model_module_version": "1.5.0",
            "_model_name": "ProgressStyleModel",
            "_view_count": null,
            "_view_module": "@jupyter-widgets/base",
            "_view_module_version": "1.2.0",
            "_view_name": "StyleView",
            "bar_color": null,
            "description_width": ""
          }
        },
        "d694ecd95c2b4cf8a21ce48645ff31f4": {
          "model_module": "@jupyter-widgets/base",
          "model_name": "LayoutModel",
          "model_module_version": "1.2.0",
          "state": {
            "_model_module": "@jupyter-widgets/base",
            "_model_module_version": "1.2.0",
            "_model_name": "LayoutModel",
            "_view_count": null,
            "_view_module": "@jupyter-widgets/base",
            "_view_module_version": "1.2.0",
            "_view_name": "LayoutView",
            "align_content": null,
            "align_items": null,
            "align_self": null,
            "border": null,
            "bottom": null,
            "display": null,
            "flex": null,
            "flex_flow": null,
            "grid_area": null,
            "grid_auto_columns": null,
            "grid_auto_flow": null,
            "grid_auto_rows": null,
            "grid_column": null,
            "grid_gap": null,
            "grid_row": null,
            "grid_template_areas": null,
            "grid_template_columns": null,
            "grid_template_rows": null,
            "height": null,
            "justify_content": null,
            "justify_items": null,
            "left": null,
            "margin": null,
            "max_height": null,
            "max_width": null,
            "min_height": null,
            "min_width": null,
            "object_fit": null,
            "object_position": null,
            "order": null,
            "overflow": null,
            "overflow_x": null,
            "overflow_y": null,
            "padding": null,
            "right": null,
            "top": null,
            "visibility": null,
            "width": null
          }
        },
        "a956fdaa244a43e3ad008b6c552184f3": {
          "model_module": "@jupyter-widgets/controls",
          "model_name": "DescriptionStyleModel",
          "model_module_version": "1.5.0",
          "state": {
            "_model_module": "@jupyter-widgets/controls",
            "_model_module_version": "1.5.0",
            "_model_name": "DescriptionStyleModel",
            "_view_count": null,
            "_view_module": "@jupyter-widgets/base",
            "_view_module_version": "1.2.0",
            "_view_name": "StyleView",
            "description_width": ""
          }
        },
        "264f0fb18cf84ab58808a38592943fbe": {
          "model_module": "@jupyter-widgets/controls",
          "model_name": "HBoxModel",
          "model_module_version": "1.5.0",
          "state": {
            "_dom_classes": [],
            "_model_module": "@jupyter-widgets/controls",
            "_model_module_version": "1.5.0",
            "_model_name": "HBoxModel",
            "_view_count": null,
            "_view_module": "@jupyter-widgets/controls",
            "_view_module_version": "1.5.0",
            "_view_name": "HBoxView",
            "box_style": "",
            "children": [
              "IPY_MODEL_6ffbb8e1d192422e9957f118cfc89039",
              "IPY_MODEL_ab507cd27c40415fb0af429a7ac154a7",
              "IPY_MODEL_c7fa0a62d36d474dac64d2ff260e47a0"
            ],
            "layout": "IPY_MODEL_14601dfe91fc44599d967f921b294ac8"
          }
        },
        "6ffbb8e1d192422e9957f118cfc89039": {
          "model_module": "@jupyter-widgets/controls",
          "model_name": "HTMLModel",
          "model_module_version": "1.5.0",
          "state": {
            "_dom_classes": [],
            "_model_module": "@jupyter-widgets/controls",
            "_model_module_version": "1.5.0",
            "_model_name": "HTMLModel",
            "_view_count": null,
            "_view_module": "@jupyter-widgets/controls",
            "_view_module_version": "1.5.0",
            "_view_name": "HTMLView",
            "description": "",
            "description_tooltip": null,
            "layout": "IPY_MODEL_ea060c0910a94f7da93353b767614189",
            "placeholder": "​",
            "style": "IPY_MODEL_a9c64d068ef8433eb456abc2bdb29a0a",
            "value": "100%"
          }
        },
        "ab507cd27c40415fb0af429a7ac154a7": {
          "model_module": "@jupyter-widgets/controls",
          "model_name": "FloatProgressModel",
          "model_module_version": "1.5.0",
          "state": {
            "_dom_classes": [],
            "_model_module": "@jupyter-widgets/controls",
            "_model_module_version": "1.5.0",
            "_model_name": "FloatProgressModel",
            "_view_count": null,
            "_view_module": "@jupyter-widgets/controls",
            "_view_module_version": "1.5.0",
            "_view_name": "ProgressView",
            "bar_style": "success",
            "description": "",
            "description_tooltip": null,
            "layout": "IPY_MODEL_9301df1b907f435aafe93df7c26c69f1",
            "max": 1554,
            "min": 0,
            "orientation": "horizontal",
            "style": "IPY_MODEL_86e79009cfea4ef79ab49bc8f9733141",
            "value": 1554
          }
        },
        "c7fa0a62d36d474dac64d2ff260e47a0": {
          "model_module": "@jupyter-widgets/controls",
          "model_name": "HTMLModel",
          "model_module_version": "1.5.0",
          "state": {
            "_dom_classes": [],
            "_model_module": "@jupyter-widgets/controls",
            "_model_module_version": "1.5.0",
            "_model_name": "HTMLModel",
            "_view_count": null,
            "_view_module": "@jupyter-widgets/controls",
            "_view_module_version": "1.5.0",
            "_view_name": "HTMLView",
            "description": "",
            "description_tooltip": null,
            "layout": "IPY_MODEL_2d465656c2904258a99dce0444e6ebec",
            "placeholder": "​",
            "style": "IPY_MODEL_d9a160610d2e4c4eacaff1e694a60814",
            "value": " 1554/1554 [1:47:15&lt;00:00,  4.27s/it]"
          }
        },
        "14601dfe91fc44599d967f921b294ac8": {
          "model_module": "@jupyter-widgets/base",
          "model_name": "LayoutModel",
          "model_module_version": "1.2.0",
          "state": {
            "_model_module": "@jupyter-widgets/base",
            "_model_module_version": "1.2.0",
            "_model_name": "LayoutModel",
            "_view_count": null,
            "_view_module": "@jupyter-widgets/base",
            "_view_module_version": "1.2.0",
            "_view_name": "LayoutView",
            "align_content": null,
            "align_items": null,
            "align_self": null,
            "border": null,
            "bottom": null,
            "display": null,
            "flex": null,
            "flex_flow": null,
            "grid_area": null,
            "grid_auto_columns": null,
            "grid_auto_flow": null,
            "grid_auto_rows": null,
            "grid_column": null,
            "grid_gap": null,
            "grid_row": null,
            "grid_template_areas": null,
            "grid_template_columns": null,
            "grid_template_rows": null,
            "height": null,
            "justify_content": null,
            "justify_items": null,
            "left": null,
            "margin": null,
            "max_height": null,
            "max_width": null,
            "min_height": null,
            "min_width": null,
            "object_fit": null,
            "object_position": null,
            "order": null,
            "overflow": null,
            "overflow_x": null,
            "overflow_y": null,
            "padding": null,
            "right": null,
            "top": null,
            "visibility": null,
            "width": null
          }
        },
        "ea060c0910a94f7da93353b767614189": {
          "model_module": "@jupyter-widgets/base",
          "model_name": "LayoutModel",
          "model_module_version": "1.2.0",
          "state": {
            "_model_module": "@jupyter-widgets/base",
            "_model_module_version": "1.2.0",
            "_model_name": "LayoutModel",
            "_view_count": null,
            "_view_module": "@jupyter-widgets/base",
            "_view_module_version": "1.2.0",
            "_view_name": "LayoutView",
            "align_content": null,
            "align_items": null,
            "align_self": null,
            "border": null,
            "bottom": null,
            "display": null,
            "flex": null,
            "flex_flow": null,
            "grid_area": null,
            "grid_auto_columns": null,
            "grid_auto_flow": null,
            "grid_auto_rows": null,
            "grid_column": null,
            "grid_gap": null,
            "grid_row": null,
            "grid_template_areas": null,
            "grid_template_columns": null,
            "grid_template_rows": null,
            "height": null,
            "justify_content": null,
            "justify_items": null,
            "left": null,
            "margin": null,
            "max_height": null,
            "max_width": null,
            "min_height": null,
            "min_width": null,
            "object_fit": null,
            "object_position": null,
            "order": null,
            "overflow": null,
            "overflow_x": null,
            "overflow_y": null,
            "padding": null,
            "right": null,
            "top": null,
            "visibility": null,
            "width": null
          }
        },
        "a9c64d068ef8433eb456abc2bdb29a0a": {
          "model_module": "@jupyter-widgets/controls",
          "model_name": "DescriptionStyleModel",
          "model_module_version": "1.5.0",
          "state": {
            "_model_module": "@jupyter-widgets/controls",
            "_model_module_version": "1.5.0",
            "_model_name": "DescriptionStyleModel",
            "_view_count": null,
            "_view_module": "@jupyter-widgets/base",
            "_view_module_version": "1.2.0",
            "_view_name": "StyleView",
            "description_width": ""
          }
        },
        "9301df1b907f435aafe93df7c26c69f1": {
          "model_module": "@jupyter-widgets/base",
          "model_name": "LayoutModel",
          "model_module_version": "1.2.0",
          "state": {
            "_model_module": "@jupyter-widgets/base",
            "_model_module_version": "1.2.0",
            "_model_name": "LayoutModel",
            "_view_count": null,
            "_view_module": "@jupyter-widgets/base",
            "_view_module_version": "1.2.0",
            "_view_name": "LayoutView",
            "align_content": null,
            "align_items": null,
            "align_self": null,
            "border": null,
            "bottom": null,
            "display": null,
            "flex": null,
            "flex_flow": null,
            "grid_area": null,
            "grid_auto_columns": null,
            "grid_auto_flow": null,
            "grid_auto_rows": null,
            "grid_column": null,
            "grid_gap": null,
            "grid_row": null,
            "grid_template_areas": null,
            "grid_template_columns": null,
            "grid_template_rows": null,
            "height": null,
            "justify_content": null,
            "justify_items": null,
            "left": null,
            "margin": null,
            "max_height": null,
            "max_width": null,
            "min_height": null,
            "min_width": null,
            "object_fit": null,
            "object_position": null,
            "order": null,
            "overflow": null,
            "overflow_x": null,
            "overflow_y": null,
            "padding": null,
            "right": null,
            "top": null,
            "visibility": null,
            "width": null
          }
        },
        "86e79009cfea4ef79ab49bc8f9733141": {
          "model_module": "@jupyter-widgets/controls",
          "model_name": "ProgressStyleModel",
          "model_module_version": "1.5.0",
          "state": {
            "_model_module": "@jupyter-widgets/controls",
            "_model_module_version": "1.5.0",
            "_model_name": "ProgressStyleModel",
            "_view_count": null,
            "_view_module": "@jupyter-widgets/base",
            "_view_module_version": "1.2.0",
            "_view_name": "StyleView",
            "bar_color": null,
            "description_width": ""
          }
        },
        "2d465656c2904258a99dce0444e6ebec": {
          "model_module": "@jupyter-widgets/base",
          "model_name": "LayoutModel",
          "model_module_version": "1.2.0",
          "state": {
            "_model_module": "@jupyter-widgets/base",
            "_model_module_version": "1.2.0",
            "_model_name": "LayoutModel",
            "_view_count": null,
            "_view_module": "@jupyter-widgets/base",
            "_view_module_version": "1.2.0",
            "_view_name": "LayoutView",
            "align_content": null,
            "align_items": null,
            "align_self": null,
            "border": null,
            "bottom": null,
            "display": null,
            "flex": null,
            "flex_flow": null,
            "grid_area": null,
            "grid_auto_columns": null,
            "grid_auto_flow": null,
            "grid_auto_rows": null,
            "grid_column": null,
            "grid_gap": null,
            "grid_row": null,
            "grid_template_areas": null,
            "grid_template_columns": null,
            "grid_template_rows": null,
            "height": null,
            "justify_content": null,
            "justify_items": null,
            "left": null,
            "margin": null,
            "max_height": null,
            "max_width": null,
            "min_height": null,
            "min_width": null,
            "object_fit": null,
            "object_position": null,
            "order": null,
            "overflow": null,
            "overflow_x": null,
            "overflow_y": null,
            "padding": null,
            "right": null,
            "top": null,
            "visibility": null,
            "width": null
          }
        },
        "d9a160610d2e4c4eacaff1e694a60814": {
          "model_module": "@jupyter-widgets/controls",
          "model_name": "DescriptionStyleModel",
          "model_module_version": "1.5.0",
          "state": {
            "_model_module": "@jupyter-widgets/controls",
            "_model_module_version": "1.5.0",
            "_model_name": "DescriptionStyleModel",
            "_view_count": null,
            "_view_module": "@jupyter-widgets/base",
            "_view_module_version": "1.2.0",
            "_view_name": "StyleView",
            "description_width": ""
          }
        }
      }
    }
  },
  "nbformat": 4,
  "nbformat_minor": 5
}