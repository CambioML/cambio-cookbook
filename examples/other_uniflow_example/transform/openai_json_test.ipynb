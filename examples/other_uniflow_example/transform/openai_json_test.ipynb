{
 "cells": [
  {
   "cell_type": "markdown",
   "metadata": {},
   "source": [
    "# Test OpenAI Json Response format"
   ]
  },
  {
   "cell_type": "code",
   "execution_count": 1,
   "metadata": {},
   "outputs": [
    {
     "data": {
      "text/plain": [
       "True"
      ]
     },
     "execution_count": 1,
     "metadata": {},
     "output_type": "execute_result"
    }
   ],
   "source": [
    "from dotenv import load_dotenv\n",
    "\n",
    "load_dotenv()"
   ]
  },
  {
   "cell_type": "markdown",
   "metadata": {},
   "source": [
    "### Test Json Response format\n",
    "Specify response_format in ```v1/chat/completion``` api endpoint.\n",
    "\n",
    "Please check [supported models](https://platform.openai.com/docs/models/model-endpoint-compatibility) for this endpoint.\n",
    "\n",
    "Also, make sure you have a .env file with your OpenAI API key in the root directory of this project.\n",
    "\n",
    "```OPENAI_API_KEY=YOUR_API_KEY```"
   ]
  },
  {
   "cell_type": "code",
   "execution_count": 2,
   "metadata": {},
   "outputs": [
    {
     "name": "stdout",
     "output_type": "stream",
     "text": [
      "instruction: Generate one question and its corresponding answer based on the context. Following the format of the examples below to include context, question, and answer in the response in json\n",
      "context: The quick brown fox jumps over the lazy dog.\n",
      "question: What is the color of the fox?\n",
      "answer: brown.\n",
      "context: The quick brown fox jumps over the lazy black dog.\n",
      "question: What is the color of the dog?\n",
      "answer: black.\n",
      "context: It was a sunny day and the sky color is blue.\n",
      "question: \n",
      "answer: \n"
     ]
    }
   ],
   "source": [
    "from openai import OpenAI\n",
    "import json\n",
    "client = OpenAI()\n",
    "content = {\n",
    "    \"instruction\": \"\"\"Generate one question and its corresponding answer based on the context. Following the format of the examples below to include context, question, and answer in the response in json\"\"\",\n",
    "    \"examples\": [\n",
    "        {\n",
    "            \"context\": \"\"\"The quick brown fox jumps over the lazy dog.\"\"\",\n",
    "            \"question\": \"\"\"What is the color of the fox?\"\"\",\n",
    "            \"answer\": \"\"\"brown.\"\"\"\n",
    "        },\n",
    "        {\n",
    "            \"context\": \"\"\"The quick brown fox jumps over the lazy black dog.\"\"\",\n",
    "            \"question\": \"\"\"What is the color of the dog?\"\"\",\n",
    "            \"answer\": \"\"\"black.\"\"\"\n",
    "        },\n",
    "        {\n",
    "            \"context\": \"\"\"It was a sunny day and the sky color is blue.\"\"\",\n",
    "            \"question\": \"\"\"\"\"\",\n",
    "            \"answer\": \"\"\"\"\"\",\n",
    "        }\n",
    "    ],\n",
    "}\n",
    "\n",
    "output_strings = []\n",
    "\n",
    "# Iterate over each key-value pair in the dictionary\n",
    "for key, value in content.items():\n",
    "    if key == \"examples\":\n",
    "        # Special handling for the \"examples\" list\n",
    "        for example in value:\n",
    "            for ex_key, ex_value in example.items():\n",
    "                output_strings.append(f\"{ex_key}: {ex_value}\")\n",
    "    else:\n",
    "        output_strings.append(f\"{key}: {value}\")\n",
    "\n",
    "# Join all the strings into one large string, separated by new lines\n",
    "output_string = \"\\n\".join(output_strings)\n",
    "\n",
    "print(output_string)\n",
    "\n",
    "\n",
    "completion = client.chat.completions.create(\n",
    "    model=\"gpt-3.5-turbo-1106\",\n",
    "    messages=[\n",
    "        {\"role\": \"user\",\n",
    "         \"content\": output_string}\n",
    "        ],\n",
    "    response_format={'type':'json_object'})\n"
   ]
  },
  {
   "cell_type": "code",
   "execution_count": 3,
   "metadata": {},
   "outputs": [
    {
     "name": "stdout",
     "output_type": "stream",
     "text": [
      "{\n",
      "  \"context\": \"It was a sunny day and the sky color is blue.\",\n",
      "  \"question\": \"What is the color of the sky?\",\n",
      "  \"answer\": \"blue\"\n",
      "}\n"
     ]
    }
   ],
   "source": [
    "print(completion.choices[0].message.content)"
   ]
  }
 ],
 "metadata": {
  "kernelspec": {
   "display_name": "uniflow",
   "language": "python",
   "name": "python3"
  },
  "language_info": {
   "codemirror_mode": {
    "name": "ipython",
    "version": 3
   },
   "file_extension": ".py",
   "mimetype": "text/x-python",
   "name": "python",
   "nbconvert_exporter": "python",
   "pygments_lexer": "ipython3",
   "version": "3.10.13"
  }
 },
 "nbformat": 4,
 "nbformat_minor": 2
}
