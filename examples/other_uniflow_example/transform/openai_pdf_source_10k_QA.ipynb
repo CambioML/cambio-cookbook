{
 "cells": [
  {
   "cell_type": "markdown",
   "id": "7cbc4c4a",
   "metadata": {},
   "source": [
    "# Example of generating QAs for a 10K\n",
    "In this example, we will show you how to generate question-answers (QAs) from a pdf using OpenAI's models via `uniflow`'s [OpenAIJsonModelFlow](https://github.com/CambioML/uniflow/blob/main/uniflow/flow/model_flow.py#L125).\n",
    "\n",
    "For this example, we're using a [10K from Nike](https://investors.nike.com/investors/news-events-and-reports/).\n",
    "\n",
    "### Before running the code\n",
    "\n",
    "You will need to `uniflow` conda environment to run this notebook. You can set up the environment following the instruction: https://github.com/CambioML/uniflow/tree/main#installation.\n",
    "\n",
    "Next, you will need a valid [OpenAI API key](https://platform.openai.com/api-keys) to run the code. Once you have the key, set it as the environment variable `OPENAI_API_KEY` within a `.env` file in the root directory of this repository. For more details, see this [instruction](https://github.com/CambioML/uniflow/tree/main#api-keys)\n",
    "\n",
    "Finally, we are storing the Nike 10K in the `data\\raw_input` directory as \"nike-10k-2023.pdf\". You can download the file from [here](https://s1.q4cdn.com/806093406/files/doc_downloads/2023/414759-1-_5_Nike-NPS-Combo_Form-10-K_WR.pdf)."
   ]
  },
  {
   "cell_type": "markdown",
   "id": "a3ce3754",
   "metadata": {},
   "source": [
    "### Update system path"
   ]
  },
  {
   "cell_type": "code",
   "execution_count": 1,
   "id": "172a856a",
   "metadata": {},
   "outputs": [],
   "source": [
    "%reload_ext autoreload\n",
    "%autoreload 2\n",
    "\n",
    "import sys\n",
    "\n",
    "sys.path.append(\".\")\n",
    "sys.path.append(\"..\")\n",
    "sys.path.append(\"../..\")"
   ]
  },
  {
   "cell_type": "markdown",
   "id": "a594b4c3",
   "metadata": {},
   "source": [
    "### Install helper packages"
   ]
  },
  {
   "cell_type": "code",
   "execution_count": 2,
   "id": "35e926af",
   "metadata": {},
   "outputs": [],
   "source": [
    "!{sys.executable} -m pip install -q pandas pypdf nougat-ocr"
   ]
  },
  {
   "cell_type": "markdown",
   "id": "7d84aefd",
   "metadata": {},
   "source": [
    "### Import Dependency"
   ]
  },
  {
   "cell_type": "code",
   "execution_count": 3,
   "id": "8d84dd70",
   "metadata": {},
   "outputs": [
    {
     "name": "stderr",
     "output_type": "stream",
     "text": [
      "/opt/conda/envs/uniflow/lib/python3.10/site-packages/tqdm/auto.py:21: TqdmWarning: IProgress not found. Please update jupyter and ipywidgets. See https://ipywidgets.readthedocs.io/en/stable/user_install.html\n",
      "  from .autonotebook import tqdm as notebook_tqdm\n"
     ]
    },
    {
     "data": {
      "text/plain": [
       "True"
      ]
     },
     "execution_count": 3,
     "metadata": {},
     "output_type": "execute_result"
    }
   ],
   "source": [
    "from dotenv import load_dotenv\n",
    "import os\n",
    "import pandas as pd\n",
    "from uniflow.flow.client import TransformClient, ExtractClient\n",
    "from uniflow.flow.config import TransformOpenAIConfig\n",
    "from uniflow.flow.config import ExtractPDFConfig, NougatModelConfig\n",
    "from uniflow.op.model.model_config import OpenAIModelConfig\n",
    "from uniflow.op.prompt import Context, PromptTemplate\n",
    "\n",
    "load_dotenv()\n"
   ]
  },
  {
   "cell_type": "markdown",
   "id": "cb677037",
   "metadata": {},
   "source": [
    "### Prepare the input data\n",
    "First, we need to pre-process the PDF to get text chunks that we can feed into the model. We will use `Nougat` to process the PDF data."
   ]
  },
  {
   "cell_type": "code",
   "execution_count": 4,
   "id": "a707ef78",
   "metadata": {},
   "outputs": [],
   "source": [
    "pdf_file = \"amazon-10k-2023.pdf\"\n",
    "# pdf_file = \"nike-10k-2023.pdf\"\n",
    "# pdf_file = \"alphabet-10k-2023.pdf\""
   ]
  },
  {
   "cell_type": "markdown",
   "id": "4b177df1",
   "metadata": {},
   "source": [
    "##### Set current directory and input data directory."
   ]
  },
  {
   "cell_type": "code",
   "execution_count": 5,
   "id": "092b355a",
   "metadata": {},
   "outputs": [],
   "source": [
    "dir_cur = os.getcwd()\n",
    "input_file = os.path.join(f\"{dir_cur}/data/raw_input/\", pdf_file)"
   ]
  },
  {
   "cell_type": "markdown",
   "id": "82bc6bbc",
   "metadata": {},
   "source": [
    "##### Load and split the pdf using Nougat"
   ]
  },
  {
   "cell_type": "code",
   "execution_count": 6,
   "id": "138cbd71",
   "metadata": {
    "scrolled": true
   },
   "outputs": [
    {
     "name": "stderr",
     "output_type": "stream",
     "text": [
      "/opt/conda/envs/uniflow/lib/python3.10/site-packages/torch/functional.py:504: UserWarning: torch.meshgrid: in an upcoming release, it will be required to pass the indexing argument. (Triggered internally at ../aten/src/ATen/native/TensorShape.cpp:3526.)\n",
      "  return _VF.meshgrid(tensors, **kwargs)  # type: ignore[attr-defined]\n",
      "  0%|                                                                                                                 | 0/1 [00:00<?, ?it/s]"
     ]
    },
    {
     "name": "stdout",
     "output_type": "stream",
     "text": [
      "INFO: likely hallucinated title at the end of the page: ## Appendix B\n"
     ]
    },
    {
     "name": "stderr",
     "output_type": "stream",
     "text": [
      "100%|████████████████████████████████████████████████████████████████████████████████████████████████████████| 1/1 [07:08<00:00, 428.76s/it]\n"
     ]
    }
   ],
   "source": [
    "pdf_directory = [\n",
    "    {\"pdf\": input_file},\n",
    "]\n",
    "\n",
    "extract_config = ExtractPDFConfig(\n",
    "    model_config=NougatModelConfig(\n",
    "        model_name = \"0.1.0-small\",\n",
    "        batch_size = 128 # When batch_size>1, nougat will run on CUDA, otherwise it will run on CPU\n",
    "    )\n",
    ")\n",
    "\n",
    "nougat_client = ExtractClient(extract_config)\n",
    "\n",
    "pdf_output = nougat_client.run(pdf_directory)"
   ]
  },
  {
   "cell_type": "markdown",
   "id": "f5397dee-99ad-4374-8915-43369537b75d",
   "metadata": {},
   "source": [
    "##### Pre-process the output context from containing elements as individual lines in a PDF to having each element contain text within a 1,000-token length."
   ]
  },
  {
   "cell_type": "code",
   "execution_count": 7,
   "id": "2194a355-7468-4cef-966d-2a8bedac682f",
   "metadata": {},
   "outputs": [],
   "source": [
    "def count_tokens(text):\n",
    "    # Assuming each word is a token, this function counts the number of tokens in the text.\n",
    "    return len(text.split())\n",
    "\n",
    "def recreate_string(pdf_output):\n",
    "    recreated_output = []\n",
    "    current_element = \"\"\n",
    "    for line in pdf_output:\n",
    "        line = line.rstrip('\\n')  # Remove the trailing newline character\n",
    "        if current_element:\n",
    "            temp_element = current_element + \" \" + line\n",
    "        else:\n",
    "            temp_element = line\n",
    "\n",
    "        if count_tokens(temp_element) <= 1000:\n",
    "            current_element = temp_element\n",
    "        else:\n",
    "            recreated_output.append(current_element)\n",
    "            current_element = line\n",
    "\n",
    "    if current_element:\n",
    "        recreated_output.append(current_element)\n",
    "\n",
    "    return recreated_output\n",
    "\n",
    "page_contents = recreate_string(pdf_output[0]['output'][0]['text'])"
   ]
  },
  {
   "cell_type": "markdown",
   "id": "5aafd53d",
   "metadata": {},
   "source": [
    "### Prepare sample prompts\n",
    "\n",
    "First, we need to demonstrate sample prompts for LLM. We do this by giving a sample list of `Context` examples to the `PromptTemplate` class."
   ]
  },
  {
   "cell_type": "code",
   "execution_count": 8,
   "id": "ef144e2d",
   "metadata": {},
   "outputs": [],
   "source": [
    "guided_prompt = PromptTemplate(\n",
    "    instruction=\"\"\"Generate one question and its corresponding answer based on the last context in the last\n",
    "    example. Follow the format of the examples below to include context, question, and answer in the response\"\"\",\n",
    "    few_shot_prompt=[\n",
    "        Context(\n",
    "            context=\"In 1948, Claude E. Shannon published A Mathematical Theory of\\nCommunication (Shannon, 1948) establishing the theory of\\ninformation. In his article, Shannon introduced the concept of\\ninformation entropy for the first time. We will begin our journey here.\",\n",
    "            question=\"Who published A Mathematical Theory of Communication in 1948?\",\n",
    "            answer=\"Claude E. Shannon.\",\n",
    "        ),\n",
    "])"
   ]
  },
  {
   "cell_type": "markdown",
   "id": "71d3dd10",
   "metadata": {},
   "source": [
    "Next, for the given `page_contents` above, we convert them to the `Context` class to be processed by `uniflow`."
   ]
  },
  {
   "cell_type": "code",
   "execution_count": 9,
   "id": "83617c67",
   "metadata": {},
   "outputs": [
    {
     "data": {
      "text/plain": [
       "[Context(context='In addition, failure to optimize inventory or staffing in our fulfillment network increases our net shipping cost by requiring long-zone or partial shipments. We and our co-sourcers may be unable to adequately staff our fulfillment network and customer service centers. For example, productivity across our fulfillment network currently is being affected by regional labor market and global supply chain constraints, which increase payroll costs and make it difficult to hire, train, and deploy a suf'),\n",
       " Context(context='We also rely on a significant number of personnel to operate our stores, fulfillment network, and data centers and carry out our other operations. Failure to successfully hire, train, manage, and retain sufficient personnel to meet our needs can strain our operations, increase payroll and other costs, and harm our business and reputation. In addition, changes in laws and regulations applicable to employees, independent contractors, and temporary personnel could increase our payroll costs, decrea'),\n",
       " Context(context='* disruption of our ongoing business, including loss of management focus on existing businesses;\\n* problems retaining key personnel;\\n* additional operating losses and expenses of the businesses we acquired or in which we invested;\\n* the potential impairment of tangible and intangible assets and goodwill, including as a result of acquisitions;\\n* the potential impairment of customer and other relationships of the company we acquired or in which we invested or our own customers as a result of any i'),\n",
       " Context(context='In addition, we provide regulated services in certain jurisdictions because we enable customers to keep account balances with us and transfer money to third parties, and because we provide services to third parties to facilitate payments on their behalf. Jurisdictions subject us to requirements for licensing, regulatory inspection, bonding and capital maintenance, the use, handling, and segregation of transferred funds, consumer disclosures, maintaining or processing data, and authentication. We'),\n",
       " Context(context='As an innovative company offering a wide range of consumer and business products and services around the world, we are regularly subject to actual and threatened claims, litigation, reviews, investigations, and other proceedings, including proceedings by governments and regulatory authorities, involving a wide range of issues, including patent and other intellectual property matters, taxes, labor and employment, competition and antitrust, privacy, data use, data protection, data security, data l'),\n",
       " Context(context='We are also subject to tax controversies in various jurisdictions that can result in tax assessments against us. Developments in an audit, investigation, or other tax controversy can have a material effect on our operating results or cash flows in the period or periods for which that development occurs, as well as for prior and subsequent periods. Due to the inherent complexity and uncertainty of these matters, interpretations of certain tax laws by authorities, and judicial, administrative, and'),\n",
       " Context(context='_Our financial focus is on long-term, sustainable growth in free cash flows._ Free cash flows are driven primarily by increasing operating income and efficiently managing accounts receivable, inventory, accounts payable, and cash capital expenditures, including our decision to purchase or lease property and equipment. Increases in operating income primarily result from increases in sales of products and services and efficiently managing our operating costs, partially offset by investments we mak'),\n",
       " Context(context='For additional information about each line item addressed above, refer to Item 8 of Part II, \"Financial Statements and Supplementary Data -- Note 1 -- Description of Business, Accounting Policies, and Supplemental Disclosures.\" Our Annual Report on Form 10-K for the year ended December 31, 2021 includes a discussion and analysis of our financial condition and results of operations for the year ended December 31, 2020 in Item 7 of Part II, \"Management\\'s Discussion and Analysis of Financial Condit'),\n",
       " Context(context='Cash provided by (used in) operating activities was $46.3 billion and $46.8 billion in 2021 and 2022. Our operating cash flows result primarily from cash received from our consumer, seller, developer, enterprise, and content reactor customers, and advertisers, offset by cash payments we make for products and services, employee compensation, payment processing and related transaction costs, operating leases, and interest payments. Cash received from our customers and other activities generally co'),\n",
       " Context(context='We have organized our operations into three segments: North America, International, and AWS. These segments reflect the way the Company evaluates its business performance and manages its operations. See Item 8 of Part II, \"Financial Statements and Supplementary Data -- Note 10 -- Segment Information.\" #### Overview Macroeconomic factors, including inflation, increased interest rates, significant capital market volatility, the prolonged COVID-19 pandemic, global supply chain constraints, and glob')]"
      ]
     },
     "execution_count": 9,
     "metadata": {},
     "output_type": "execute_result"
    }
   ],
   "source": [
    "input_data = [ Context(context=p[:500]) for p in page_contents[6:16] if len(p) > 200]\n",
    "input_data"
   ]
  },
  {
   "cell_type": "markdown",
   "id": "a3180ff3",
   "metadata": {},
   "source": [
    "### Use LLM to generate data\n",
    "\n",
    "In this example, we will use the [OpenAIModelConfig](https://github.com/CambioML/uniflow/blob/main/uniflow/model/config.py#L17)'s default LLM to generate questions and answers.\n",
    "\n",
    "Here, we pass in our `guided_prompt` to the `OpenAIConfig` to use our customized instructions and examples, instead of the `uniflow` default ones.\n",
    "\n",
    "We also want to get the response in the `json` format instead of the `text` default, so we set the `response_format` to `json_object`."
   ]
  },
  {
   "cell_type": "code",
   "execution_count": 10,
   "id": "c3e75e65",
   "metadata": {},
   "outputs": [],
   "source": [
    "config = TransformOpenAIConfig(\n",
    "    prompt_template=guided_prompt,\n",
    "    model_config=OpenAIModelConfig(response_format={\"type\": \"json_object\"}),\n",
    ")\n",
    "client = TransformClient(config)"
   ]
  },
  {
   "cell_type": "markdown",
   "id": "06b94c94",
   "metadata": {},
   "source": [
    "Now we call the `run` method on the `client` object to execute the question-answer generation operation on the data shown above."
   ]
  },
  {
   "cell_type": "code",
   "execution_count": 11,
   "id": "2103149e",
   "metadata": {},
   "outputs": [
    {
     "name": "stderr",
     "output_type": "stream",
     "text": [
      "100%|███████████████████████████████████████████████████████████████████████████████████████████████████████| 10/10 [00:23<00:00,  2.34s/it]\n"
     ]
    }
   ],
   "source": [
    "output = client.run(input_data)"
   ]
  },
  {
   "cell_type": "markdown",
   "id": "368f40b1",
   "metadata": {},
   "source": [
    "### Process the output\n",
    "\n",
    "Let's take a look of the generated output. We need to do a little postprocessing on the raw output."
   ]
  },
  {
   "cell_type": "code",
   "execution_count": 12,
   "id": "491d5b4c",
   "metadata": {},
   "outputs": [
    {
     "data": {
      "text/html": [
       "<style type=\"text/css\">\n",
       "#T_4b4f5 th {\n",
       "  text-align: left;\n",
       "}\n",
       "#T_4b4f5_row0_col0, #T_4b4f5_row0_col1, #T_4b4f5_row0_col2, #T_4b4f5_row1_col0, #T_4b4f5_row1_col1, #T_4b4f5_row1_col2, #T_4b4f5_row2_col0, #T_4b4f5_row2_col1, #T_4b4f5_row2_col2, #T_4b4f5_row3_col0, #T_4b4f5_row3_col1, #T_4b4f5_row3_col2, #T_4b4f5_row4_col0, #T_4b4f5_row4_col1, #T_4b4f5_row4_col2, #T_4b4f5_row5_col0, #T_4b4f5_row5_col1, #T_4b4f5_row5_col2, #T_4b4f5_row6_col0, #T_4b4f5_row6_col1, #T_4b4f5_row6_col2, #T_4b4f5_row7_col0, #T_4b4f5_row7_col1, #T_4b4f5_row7_col2, #T_4b4f5_row8_col0, #T_4b4f5_row8_col1, #T_4b4f5_row8_col2, #T_4b4f5_row9_col0, #T_4b4f5_row9_col1, #T_4b4f5_row9_col2 {\n",
       "  text-align: left;\n",
       "}\n",
       "</style>\n",
       "<table id=\"T_4b4f5\">\n",
       "  <thead>\n",
       "    <tr>\n",
       "      <th class=\"blank level0\" >&nbsp;</th>\n",
       "      <th id=\"T_4b4f5_level0_col0\" class=\"col_heading level0 col0\" >Context</th>\n",
       "      <th id=\"T_4b4f5_level0_col1\" class=\"col_heading level0 col1\" >Question</th>\n",
       "      <th id=\"T_4b4f5_level0_col2\" class=\"col_heading level0 col2\" >Answer</th>\n",
       "    </tr>\n",
       "  </thead>\n",
       "  <tbody>\n",
       "    <tr>\n",
       "      <th id=\"T_4b4f5_level0_row0\" class=\"row_heading level0 row0\" >0</th>\n",
       "      <td id=\"T_4b4f5_row0_col0\" class=\"data row0 col0\" >In addition, failure to optimize inventory or staffing in our fulfillment network increases our net shipping cost by requiring long-zone or partial shipments. We and our co-sourcers may be unable to adequately staff our fulfillment network and customer service centers. For example, productivity across our fulfillment network currently is being affected by regional labor market and global supply chain constraints, which increase payroll costs and make it difficult to hire, train, and deploy a suf</td>\n",
       "      <td id=\"T_4b4f5_row0_col1\" class=\"data row0 col1\" >What are some factors affecting productivity across the fulfillment network?</td>\n",
       "      <td id=\"T_4b4f5_row0_col2\" class=\"data row0 col2\" >Regional labor market and global supply chain constraints, which increase payroll costs and make it difficult to hire, train, and deploy a sufficient staff.</td>\n",
       "    </tr>\n",
       "    <tr>\n",
       "      <th id=\"T_4b4f5_level0_row1\" class=\"row_heading level0 row1\" >1</th>\n",
       "      <td id=\"T_4b4f5_row1_col0\" class=\"data row1 col0\" >We also rely on a significant number of personnel to operate our stores, fulfillment network, and data centers and carry out our other operations. Failure to successfully hire, train, manage, and retain sufficient personnel to meet our needs can strain our operations, increase payroll and other costs, and harm our business and reputation. In addition, changes in laws and regulations applicable to employees, independent contractors, and temporary personnel could increase our payroll costs, decrea</td>\n",
       "      <td id=\"T_4b4f5_row1_col1\" class=\"data row1 col1\" >What are the potential impacts of failure to successfully hire, train, manage, and retain sufficient personnel?</td>\n",
       "      <td id=\"T_4b4f5_row1_col2\" class=\"data row1 col2\" >Strain our operations, increase payroll and other costs, and harm our business and reputation.</td>\n",
       "    </tr>\n",
       "    <tr>\n",
       "      <th id=\"T_4b4f5_level0_row2\" class=\"row_heading level0 row2\" >2</th>\n",
       "      <td id=\"T_4b4f5_row2_col0\" class=\"data row2 col0\" >The potential risks associated with disruptions in business operations include loss of management focus, problems retaining key personnel, additional operating losses and expenses, potential impairment of assets and goodwill, and impairment of customer relationships.</td>\n",
       "      <td id=\"T_4b4f5_row2_col1\" class=\"data row2 col1\" >What are some potential risks associated with disruptions in business operations?</td>\n",
       "      <td id=\"T_4b4f5_row2_col2\" class=\"data row2 col2\" >Loss of management focus, problems retaining key personnel, additional operating losses and expenses, potential impairment of assets and goodwill, and impairment of customer relationships.</td>\n",
       "    </tr>\n",
       "    <tr>\n",
       "      <th id=\"T_4b4f5_level0_row3\" class=\"row_heading level0 row3\" >3</th>\n",
       "      <td id=\"T_4b4f5_row3_col0\" class=\"data row3 col0\" >In addition, we provide regulated services in certain jurisdictions because we enable customers to keep account balances with us and transfer money to third parties, and because we provide services to third parties to facilitate payments on their behalf. Jurisdictions subject us to requirements for licensing, regulatory inspection, bonding and capital maintenance, the use, handling, and segregation of transferred funds, consumer disclosures, maintaining or processing data, and authentication.</td>\n",
       "      <td id=\"T_4b4f5_row3_col1\" class=\"data row3 col1\" >What are the requirements jurisdictions subject the company to?</td>\n",
       "      <td id=\"T_4b4f5_row3_col2\" class=\"data row3 col2\" >Licensing, regulatory inspection, bonding and capital maintenance, the use, handling, and segregation of transferred funds, consumer disclosures, maintaining or processing data, and authentication.</td>\n",
       "    </tr>\n",
       "    <tr>\n",
       "      <th id=\"T_4b4f5_level0_row4\" class=\"row_heading level0 row4\" >4</th>\n",
       "      <td id=\"T_4b4f5_row4_col0\" class=\"data row4 col0\" >As an innovative company offering a wide range of consumer and business products and services around the world, we are regularly subject to actual and threatened claims, litigation, reviews, investigations, and other proceedings, including proceedings by governments and regulatory authorities, involving a wide range of issues, including patent and other intellectual property matters, taxes, labor and employment, competition and antitrust, privacy, data use, data protection, data security, data l</td>\n",
       "      <td id=\"T_4b4f5_row4_col1\" class=\"data row4 col1\" >What kind of issues is the innovative company regularly involved in?</td>\n",
       "      <td id=\"T_4b4f5_row4_col2\" class=\"data row4 col2\" >The company is regularly involved in issues such as patent and other intellectual property matters, taxes, labor and employment, competition and antitrust, privacy, data use, data protection, and data security.</td>\n",
       "    </tr>\n",
       "    <tr>\n",
       "      <th id=\"T_4b4f5_level0_row5\" class=\"row_heading level0 row5\" >5</th>\n",
       "      <td id=\"T_4b4f5_row5_col0\" class=\"data row5 col0\" >We are also subject to tax controversies in various jurisdictions that can result in tax assessments against us. Developments in an audit, investigation, or other tax controversy can have a material effect on our operating results or cash flows in the period or periods for which that development occurs, as well as for prior and subsequent periods. Due to the inherent complexity and uncertainty of these matters, interpretations of certain tax laws by authorities, and judicial, administrative, and</td>\n",
       "      <td id=\"T_4b4f5_row5_col1\" class=\"data row5 col1\" >What can result in tax assessments against the company in various jurisdictions?</td>\n",
       "      <td id=\"T_4b4f5_row5_col2\" class=\"data row5 col2\" >Tax controversies in various jurisdictions can result in tax assessments against the company.</td>\n",
       "    </tr>\n",
       "    <tr>\n",
       "      <th id=\"T_4b4f5_level0_row6\" class=\"row_heading level0 row6\" >6</th>\n",
       "      <td id=\"T_4b4f5_row6_col0\" class=\"data row6 col0\" >Our financial focus is on long-term, sustainable growth in free cash flows. Free cash flows are driven primarily by increasing operating income and efficiently managing accounts receivable, inventory, accounts payable, and cash capital expenditures, including our decision to purchase or lease property and equipment. Increases in operating income primarily result from increases in sales of products and services and efficiently managing our operating costs, partially offset by investments we mak</td>\n",
       "      <td id=\"T_4b4f5_row6_col1\" class=\"data row6 col1\" >What drives free cash flows according to our financial focus?</td>\n",
       "      <td id=\"T_4b4f5_row6_col2\" class=\"data row6 col2\" >Free cash flows are primarily driven by increasing operating income and efficiently managing accounts receivable, inventory, accounts payable, and cash capital expenditures, including the decision to purchase or lease property and equipment.</td>\n",
       "    </tr>\n",
       "    <tr>\n",
       "      <th id=\"T_4b4f5_level0_row7\" class=\"row_heading level0 row7\" >7</th>\n",
       "      <td id=\"T_4b4f5_row7_col0\" class=\"data row7 col0\" >For additional information about each line item addressed above, refer to Item 8 of Part II, \"Financial Statements and Supplementary Data -- Note 1 -- Description of Business, Accounting Policies, and Supplemental Disclosures.\" Our Annual Report on Form 10-K for the year ended December 31, 2021 includes a discussion and analysis of our financial condition and results of operations for the year ended December 31, 2020 in Item 7 of Part II, \"Management's Discussion and Analysis of Financial Condit</td>\n",
       "      <td id=\"T_4b4f5_row7_col1\" class=\"data row7 col1\" >Where can additional information about the financial statements and supplementary data be found?</td>\n",
       "      <td id=\"T_4b4f5_row7_col2\" class=\"data row7 col2\" >Additional information can be found in Item 8 of Part II, \"Financial Statements and Supplementary Data -- Note 1 -- Description of Business, Accounting Policies, and Supplemental Disclosures\" in the Annual Report on Form 10-K for the year ended December 31, 2021.</td>\n",
       "    </tr>\n",
       "    <tr>\n",
       "      <th id=\"T_4b4f5_level0_row8\" class=\"row_heading level0 row8\" >8</th>\n",
       "      <td id=\"T_4b4f5_row8_col0\" class=\"data row8 col0\" >Cash provided by (used in) operating activities was $46.3 billion and $46.8 billion in 2021 and 2022. Our operating cash flows result primarily from cash received from our consumer, seller, developer, enterprise, and content reactor customers, and advertisers, offset by cash payments we make for products and services, employee compensation, payment processing and related transaction costs, operating leases, and interest payments. Cash received from our customers and other activities generally co</td>\n",
       "      <td id=\"T_4b4f5_row8_col1\" class=\"data row8 col1\" >What are the main sources of operating cash flows mentioned in the context?</td>\n",
       "      <td id=\"T_4b4f5_row8_col2\" class=\"data row8 col2\" >Cash received from consumer, seller, developer, enterprise, and content reactor customers, and advertisers.</td>\n",
       "    </tr>\n",
       "    <tr>\n",
       "      <th id=\"T_4b4f5_level0_row9\" class=\"row_heading level0 row9\" >9</th>\n",
       "      <td id=\"T_4b4f5_row9_col0\" class=\"data row9 col0\" >We have organized our operations into three segments: North America, International, and AWS. These segments reflect the way the Company evaluates its business performance and manages its operations. See Item 8 of Part II, \"Financial Statements and Supplementary Data -- Note 10 -- Segment Information.\" #### Overview Macroeconomic factors, including inflation, increased interest rates, significant capital market volatility, the prolonged COVID-19 pandemic, global supply chain constraints, and glob</td>\n",
       "      <td id=\"T_4b4f5_row9_col1\" class=\"data row9 col1\" >What are the three segments into which the operations are organized?</td>\n",
       "      <td id=\"T_4b4f5_row9_col2\" class=\"data row9 col2\" >North America, International, and AWS.</td>\n",
       "    </tr>\n",
       "  </tbody>\n",
       "</table>\n"
      ],
      "text/plain": [
       "<pandas.io.formats.style.Styler at 0x7f2edcbdde70>"
      ]
     },
     "execution_count": 12,
     "metadata": {},
     "output_type": "execute_result"
    }
   ],
   "source": [
    "# Extracting context, question, and answer into a DataFrame\n",
    "contexts = []\n",
    "questions = []\n",
    "answers = []\n",
    "\n",
    "for item in output:\n",
    "    for i in item.get('output', []):\n",
    "        for response in i.get('response', []):\n",
    "            if any(key not in response for key in ['context', 'question', 'answer']):\n",
    "                print(\"Missing context, question or answer in response:\", response)\n",
    "                continue\n",
    "            contexts.append(response['context'])\n",
    "            questions.append(response['question'])\n",
    "            answers.append(response['answer'])\n",
    "\n",
    "# Set display options\n",
    "pd.set_option('display.max_colwidth', None)\n",
    "pd.set_option('display.width', 1000)\n",
    "\n",
    "df = pd.DataFrame({\n",
    "    'Context': contexts,\n",
    "    'Question': questions,\n",
    "    'Answer': answers\n",
    "})\n",
    "\n",
    "styled_df = df.style.set_properties(**{'text-align': 'left'}).set_table_styles([{\n",
    "    'selector': 'th',\n",
    "    'props': [('text-align', 'left')]\n",
    "}])\n",
    "styled_df"
   ]
  },
  {
   "cell_type": "markdown",
   "id": "0e16c604",
   "metadata": {},
   "source": [
    "Finally, we can save the output to a csv file."
   ]
  },
  {
   "cell_type": "code",
   "execution_count": 13,
   "id": "72a570e6",
   "metadata": {},
   "outputs": [],
   "source": [
    "output_df = df[['Question', 'Answer']]\n",
    "\n",
    "output_dir = 'data/output'\n",
    "\n",
    "if not os.path.exists(output_dir):\n",
    "    os.makedirs(output_dir)\n",
    "\n",
    "output_df.to_csv(f\"{output_dir}/Nike_10k_QApairs.csv\", index=False)"
   ]
  },
  {
   "cell_type": "markdown",
   "id": "a2942fd0",
   "metadata": {},
   "source": [
    "## End of the notebook\n",
    "\n",
    "Check more Uniflow use cases in the [example folder](https://github.com/CambioML/uniflow/tree/main/example/model#examples)!\n",
    "\n",
    "<a href=\"https://www.cambioml.com/\" title=\"Title\">\n",
    "    <img src=\"../image/cambioml_logo_large.png\" style=\"height: 100px; display: block; margin-left: auto; margin-right: auto;\"/>\n",
    "</a>"
   ]
  }
 ],
 "metadata": {
  "kernelspec": {
   "display_name": "Python 3 (ipykernel)",
   "language": "python",
   "name": "python3"
  },
  "language_info": {
   "codemirror_mode": {
    "name": "ipython",
    "version": 3
   },
   "file_extension": ".py",
   "mimetype": "text/x-python",
   "name": "python",
   "nbconvert_exporter": "python",
   "pygments_lexer": "ipython3",
   "version": "3.10.13"
  }
 },
 "nbformat": 4,
 "nbformat_minor": 5
}
