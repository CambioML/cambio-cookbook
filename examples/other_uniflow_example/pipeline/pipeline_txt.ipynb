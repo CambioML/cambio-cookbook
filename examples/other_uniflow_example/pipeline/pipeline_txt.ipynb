{
 "cells": [
  {
   "cell_type": "code",
   "execution_count": 1,
   "metadata": {},
   "outputs": [],
   "source": [
    "%reload_ext autoreload\n",
    "%autoreload 2\n",
    "\n",
    "import sys\n",
    "import pprint\n",
    "\n",
    "sys.path.append(\".\")\n",
    "sys.path.append(\"..\")\n",
    "sys.path.append(\"../..\")"
   ]
  },
  {
   "cell_type": "code",
   "execution_count": 2,
   "metadata": {},
   "outputs": [
    {
     "name": "stderr",
     "output_type": "stream",
     "text": [
      "/Users/goldpiggy/anaconda3/envs/uniflow/lib/python3.10/site-packages/tqdm/auto.py:21: TqdmWarning: IProgress not found. Please update jupyter and ipywidgets. See https://ipywidgets.readthedocs.io/en/stable/user_install.html\n",
      "  from .autonotebook import tqdm as notebook_tqdm\n"
     ]
    },
    {
     "data": {
      "text/plain": [
       "{'extract': ['ExtractIpynbFlow',\n",
       "  'ExtractMarkdownFlow',\n",
       "  'ExtractPDFFlow',\n",
       "  'ExtractTxtFlow'],\n",
       " 'transform': ['TransformAzureOpenAIFlow',\n",
       "  'TransformCopyFlow',\n",
       "  'TransformHuggingFaceFlow',\n",
       "  'TransformLMQGFlow',\n",
       "  'TransformOpenAIFlow'],\n",
       " 'rater': ['RaterFlow']}"
      ]
     },
     "execution_count": 2,
     "metadata": {},
     "output_type": "execute_result"
    }
   ],
   "source": [
    "from uniflow.pipeline import MultiFlowsPipeline\n",
    "from uniflow.flow.config import PipelineConfig\n",
    "from uniflow.flow.config import TransformOpenAIConfig, ExtractTxtConfig\n",
    "from uniflow.flow.flow_factory import FlowFactory\n",
    "\n",
    "FlowFactory.list()"
   ]
  },
  {
   "cell_type": "code",
   "execution_count": 4,
   "metadata": {},
   "outputs": [],
   "source": [
    "p = MultiFlowsPipeline(PipelineConfig(\n",
    "    extract_config=ExtractTxtConfig(),\n",
    "    transform_config=TransformOpenAIConfig(),\n",
    "))"
   ]
  },
  {
   "cell_type": "code",
   "execution_count": 4,
   "metadata": {},
   "outputs": [],
   "source": [
    "data = [{\"filename\": \"../extract/data/test.txt\"}] * 2"
   ]
  },
  {
   "cell_type": "code",
   "execution_count": 5,
   "metadata": {},
   "outputs": [
    {
     "name": "stderr",
     "output_type": "stream",
     "text": [
      "100%|██████████| 1/1 [00:00<00:00, 14665.40it/s]\n",
      "100%|██████████| 1/1 [00:00<00:00, 435.32it/s]\n",
      "100%|██████████| 4/4 [00:03<00:00,  1.08it/s]\n",
      "100%|██████████| 4/4 [00:03<00:00,  1.06it/s]\n"
     ]
    }
   ],
   "source": [
    "output = p.run(data)"
   ]
  },
  {
   "cell_type": "code",
   "execution_count": 6,
   "metadata": {},
   "outputs": [
    {
     "data": {
      "text/plain": [
       "[[{'output': [{'response': [\"question: What was one of the most important things you didn't understand about the world when you were a child?\\nanswer: The degree to which the returns for performance are superlinear.\"],\n",
       "     'error': 'No errors.'}],\n",
       "   'root': <uniflow.node.node.Node at 0x11818d060>},\n",
       "  {'output': [{'response': [\"question: What is the consequence of having a product that is only half as good as your competitor's?\\nanswer: You get no customers, and you go out of business.\"],\n",
       "     'error': 'No errors.'}],\n",
       "   'root': <uniflow.node.node.Node at 0x118137910>},\n",
       "  {'output': [{'response': ['question: In what other areas besides business do we see superlinear returns for performance?\\nanswer: fame, power, military victories, knowledge, and benefit to humanity.'],\n",
       "     'error': 'No errors.'}],\n",
       "   'root': <uniflow.node.node.Node at 0x11818e6b0>},\n",
       "  {'output': [{'response': ['question: What concept should ambitious individuals understand in order to succeed?\\nanswer: The concept of superlinear returns.'],\n",
       "     'error': 'No errors.'}],\n",
       "   'root': <uniflow.node.node.Node at 0x11818ea70>}],\n",
       " [{'output': [{'response': [\"question: What is something important that the speaker didn't understand about the world when they were a child?\\nanswer: The degree to which the returns for performance are superlinear.\"],\n",
       "     'error': 'No errors.'}],\n",
       "   'root': <uniflow.node.node.Node at 0x11818ca30>},\n",
       "  {'output': [{'response': ['question: What do teachers and coaches often say about the relationship between effort and returns?\\nanswer: They often say, \"You get out what you put in,\" implying that the returns are linear.'],\n",
       "     'error': 'No errors.'}],\n",
       "   'root': <uniflow.node.node.Node at 0x11818cf40>},\n",
       "  {'output': [{'response': ['question: In what other areas do we see the same pattern of superlinear returns for performance?\\nanswer: Fame, power, military victories, knowledge, and benefit to humanity.'],\n",
       "     'error': 'No errors.'}],\n",
       "   'root': <uniflow.node.node.Node at 0x11818ce50>},\n",
       "  {'output': [{'response': ['question: Why should ambitious people understand the concept of superlinear returns?\\nanswer: Because superlinear returns will be the wave ambitious people surf on.'],\n",
       "     'error': 'No errors.'}],\n",
       "   'root': <uniflow.node.node.Node at 0x11818ee60>}]]"
      ]
     },
     "execution_count": 6,
     "metadata": {},
     "output_type": "execute_result"
    }
   ],
   "source": [
    "output"
   ]
  }
 ],
 "metadata": {
  "kernelspec": {
   "display_name": "uniflow",
   "language": "python",
   "name": "python3"
  },
  "language_info": {
   "codemirror_mode": {
    "name": "ipython",
    "version": 3
   },
   "file_extension": ".py",
   "mimetype": "text/x-python",
   "name": "python",
   "nbconvert_exporter": "python",
   "pygments_lexer": "ipython3",
   "version": "3.10.13"
  }
 },
 "nbformat": 4,
 "nbformat_minor": 2
}
